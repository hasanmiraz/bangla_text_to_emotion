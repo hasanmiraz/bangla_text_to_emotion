{
 "cells": [
  {
   "cell_type": "code",
   "execution_count": 46,
   "id": "62e71137",
   "metadata": {},
   "outputs": [],
   "source": [
    "import pandas as pd\n",
    "from bnlp.corpus import stopwords, punctuations, digits\n",
    "from bnlp import BasicTokenizer\n",
    "from transformers import BertModel, BertTokenizer, BertForSequenceClassification"
   ]
  },
  {
   "cell_type": "code",
   "execution_count": 47,
   "id": "7a22f265",
   "metadata": {},
   "outputs": [],
   "source": [
    "threshold = .6"
   ]
  },
  {
   "cell_type": "code",
   "execution_count": 48,
   "id": "1f5329de",
   "metadata": {},
   "outputs": [],
   "source": [
    "train_set1 = pd.read_csv(\"csv_data/train_set_1.csv\")\n",
    "train_set2 = pd.read_csv(\"csv_data/train_set_2.csv\")"
   ]
  },
  {
   "cell_type": "code",
   "execution_count": 49,
   "id": "6244bf3a",
   "metadata": {},
   "outputs": [
    {
     "name": "stdout",
     "output_type": "stream",
     "text": [
      "3096\n",
      "3720\n"
     ]
    }
   ],
   "source": [
    "print(len(train_set1))\n",
    "print(len(train_set2))"
   ]
  },
  {
   "cell_type": "code",
   "execution_count": 50,
   "id": "3d5969dd",
   "metadata": {},
   "outputs": [],
   "source": [
    "def jaccard(list1, list2):\n",
    "    intersection = len(list(set(list1).intersection(list2)))\n",
    "    union = (len(list1) + len(list2)) - intersection\n",
    "    return float(intersection) / union"
   ]
  },
  {
   "cell_type": "code",
   "execution_count": 51,
   "id": "f4f9556e",
   "metadata": {},
   "outputs": [],
   "source": [
    "def filters(corpus):\n",
    "    res = []\n",
    "    for i in corpus:\n",
    "        temp_i = [*i]\n",
    "        flag = 0\n",
    "        for j in stopwords:\n",
    "#             print(f\"i={temp_i} j={[*j]} jac={jaccard(temp_i,[*j])}\")\n",
    "            if jaccard(temp_i,j)>threshold:\n",
    "                flag = 1\n",
    "                break\n",
    "        if(flag == 1):\n",
    "            continue\n",
    "            \n",
    "        if i in stopwords:\n",
    "            continue\n",
    "\n",
    "        if i in punctuations + '‘' + '’':\n",
    "            continue\n",
    "        if i in digits:\n",
    "            continue\n",
    "\n",
    "        res.append(i)\n",
    "\n",
    "    return res"
   ]
  },
  {
   "cell_type": "code",
   "execution_count": 52,
   "id": "8d01691f",
   "metadata": {},
   "outputs": [],
   "source": [
    "tokenizer = BasicTokenizer()\n",
    "tokenizer_bert = BertTokenizer.from_pretrained(\"sagorsarker/bangla-bert-base\")"
   ]
  },
  {
   "cell_type": "code",
   "execution_count": 53,
   "id": "3ffefe94",
   "metadata": {},
   "outputs": [
    {
     "name": "stdout",
     "output_type": "stream",
     "text": [
      "3096\n",
      "3096\n",
      "3720\n",
      "3720\n"
     ]
    }
   ],
   "source": [
    "train_set_text_list1 = train_set1.text.tolist()\n",
    "train_set_label_list1 = train_set1.label.tolist()\n",
    "print(len(train_set_text_list1))\n",
    "print(len(train_set_label_list1))\n",
    "train_set_text_list2 = train_set2.text.tolist()\n",
    "train_set_label_list2 = train_set2.label.tolist()\n",
    "print(len(train_set_text_list2))\n",
    "print(len(train_set_label_list2))"
   ]
  },
  {
   "cell_type": "code",
   "execution_count": 54,
   "id": "88323739",
   "metadata": {},
   "outputs": [],
   "source": [
    "new_train_set_text_list = []\n",
    "for i in train_set_text_list1:\n",
    "    temp_list = tokenizer.tokenize(i)\n",
    "    new_train_set_text_list.append(filters(temp_list))\n",
    "# print(new_train_set_text_list)\n",
    "    "
   ]
  },
  {
   "cell_type": "code",
   "execution_count": 55,
   "id": "130d69f8",
   "metadata": {},
   "outputs": [
    {
     "name": "stdout",
     "output_type": "stream",
     "text": [
      "3096\n"
     ]
    }
   ],
   "source": [
    "print(len(new_train_set_text_list))"
   ]
  },
  {
   "cell_type": "code",
   "execution_count": 56,
   "id": "b0ad2bf0",
   "metadata": {},
   "outputs": [],
   "source": [
    "final_list = []\n",
    "for i in new_train_set_text_list:\n",
    "    final_list.append(\" \".join(i))\n",
    "# print(final_list)"
   ]
  },
  {
   "cell_type": "code",
   "execution_count": 57,
   "id": "438c858b",
   "metadata": {},
   "outputs": [
    {
     "name": "stdout",
     "output_type": "stream",
     "text": [
      "7\n",
      "12\n",
      "62\n",
      "285\n",
      "329\n",
      "346\n",
      "354\n",
      "455\n",
      "470\n",
      "513\n",
      "680\n",
      "803\n",
      "815\n",
      "1003\n",
      "1025\n",
      "1060\n",
      "1114\n",
      "1121\n",
      "1154\n",
      "1292\n",
      "1383\n",
      "1480\n",
      "1482\n",
      "1492\n",
      "1504\n",
      "1564\n",
      "1669\n",
      "1761\n",
      "1957\n",
      "2300\n",
      "2310\n",
      "2449\n",
      "2550\n",
      "2580\n",
      "2638\n",
      "2954\n",
      "2971\n",
      "2995\n",
      "3083\n"
     ]
    }
   ],
   "source": [
    "for i in range(len(final_list)):\n",
    "    if type(final_list[i])!=str:\n",
    "        print(i)\n",
    "    if len(final_list[i])==0:\n",
    "        print(i)"
   ]
  },
  {
   "cell_type": "code",
   "execution_count": 58,
   "id": "502d248a",
   "metadata": {},
   "outputs": [],
   "source": [
    "for i in range(len(final_list)):\n",
    "    if type(final_list[i])!=str:\n",
    "        print(i)\n",
    "    if len(final_list[i])==0:\n",
    "        final_list[i]=train_set_text_list[i]"
   ]
  },
  {
   "cell_type": "code",
   "execution_count": 59,
   "id": "88fba80c",
   "metadata": {},
   "outputs": [],
   "source": [
    "for i in range(len(final_list)):\n",
    "    if type(final_list[i])!=str:\n",
    "        print(i)\n",
    "    if len(final_list[i])==0:\n",
    "        print(i)"
   ]
  },
  {
   "cell_type": "code",
   "execution_count": 60,
   "id": "4dde3803",
   "metadata": {},
   "outputs": [
    {
     "name": "stdout",
     "output_type": "stream",
     "text": [
      "                                                   text  label\n",
      "0     অপরাদি যে হোক যে কোন বয়সের হোক না কেন বিচারের ...      0\n",
      "1     হাইরে মূর্খ বাঙালি ডিজিটাল শব্দের অর্থ না বুঝি...      4\n",
      "2                নিশ্চিন্তে ভেঙে যাও কেউ বলার নেই......      4\n",
      "3                         কেয়ামতের মাঠে তোমাদের ছাড়া নট      4\n",
      "4     জনাব ইউসুফ এর মত কেউ অসহায় মানুষদের পাশে থাকলে...      0\n",
      "...                                                 ...    ...\n",
      "3091                                            ধন্যবাদ      0\n",
      "3092  এগুলো মানব রচিত  বেদায়াত । ১লা বৈশাখ থেকে মুসল...      4\n",
      "3093  আপনি সঠিক ও সৎ পথে রয়েছেন বিজয় সব সময় সততার হয়...      0\n",
      "3094                                 স্যালুট ইউ স্যার \"      0\n",
      "3095                                               রাইট      0\n",
      "\n",
      "[3096 rows x 2 columns]\n",
      "['বয়সের বিচারের মুখা মুখি', 'হাইরে মূর্খ বাঙালি ডিজিটাল শব্দের বুঝিয়া শব্দের অপব্যাবহার দেখবো', 'নিশ্চিন্তে ভেঙে', 'কেয়ামতের মাঠে ছাড়া নট', 'জনাব ইউসুফ অসহায় মানুষদের পাশে দেশের উন্নতি বছর লাগবে']\n"
     ]
    }
   ],
   "source": [
    "print(train_set1)\n",
    "print(final_list[:5])"
   ]
  },
  {
   "cell_type": "code",
   "execution_count": 61,
   "id": "5bd35777",
   "metadata": {},
   "outputs": [],
   "source": [
    "write_csv = pd.DataFrame(list(zip(final_list, train_set_label_list)),\n",
    "               columns =['text', 'label'])"
   ]
  },
  {
   "cell_type": "code",
   "execution_count": 62,
   "id": "e08ac2c3",
   "metadata": {},
   "outputs": [],
   "source": [
    "write_csv.to_csv(\"csv_data/jaccard_train_set_1.csv\",index=False)"
   ]
  },
  {
   "cell_type": "code",
   "execution_count": null,
   "id": "e21c33de",
   "metadata": {},
   "outputs": [],
   "source": []
  },
  {
   "cell_type": "code",
   "execution_count": 63,
   "id": "550340d4",
   "metadata": {},
   "outputs": [],
   "source": [
    "new_train_set_text_list = []\n",
    "for i in train_set_text_list2:\n",
    "    temp_list = tokenizer.tokenize(i)\n",
    "    new_train_set_text_list.append(filters(temp_list))"
   ]
  },
  {
   "cell_type": "code",
   "execution_count": 64,
   "id": "c5282c60",
   "metadata": {},
   "outputs": [
    {
     "name": "stdout",
     "output_type": "stream",
     "text": [
      "3720\n"
     ]
    }
   ],
   "source": [
    "print(len(new_train_set_text_list))"
   ]
  },
  {
   "cell_type": "code",
   "execution_count": 65,
   "id": "26bb2b16",
   "metadata": {},
   "outputs": [],
   "source": [
    "final_list = []\n",
    "for i in new_train_set_text_list:\n",
    "    final_list.append(\" \".join(i))\n",
    "# print(final_list)"
   ]
  },
  {
   "cell_type": "code",
   "execution_count": 66,
   "id": "5238e8b8",
   "metadata": {},
   "outputs": [
    {
     "name": "stdout",
     "output_type": "stream",
     "text": [
      "32\n",
      "1760\n",
      "2640\n"
     ]
    }
   ],
   "source": [
    "for i in range(len(final_list)):\n",
    "    if type(final_list[i])!=str:\n",
    "        print(i)\n",
    "    if len(final_list[i])==0:\n",
    "        print(i)"
   ]
  },
  {
   "cell_type": "code",
   "execution_count": 67,
   "id": "4b67b03b",
   "metadata": {},
   "outputs": [],
   "source": [
    "for i in range(len(final_list)):\n",
    "    if type(final_list[i])!=str:\n",
    "        print(i)\n",
    "    if len(final_list[i])==0:\n",
    "        final_list[i]=train_set_text_list[i]"
   ]
  },
  {
   "cell_type": "code",
   "execution_count": 68,
   "id": "633bd6fc",
   "metadata": {},
   "outputs": [],
   "source": [
    "for i in range(len(final_list)):\n",
    "    if type(final_list[i])!=str:\n",
    "        print(i)\n",
    "    if len(final_list[i])==0:\n",
    "        print(i)"
   ]
  },
  {
   "cell_type": "code",
   "execution_count": 69,
   "id": "7c3087b5",
   "metadata": {},
   "outputs": [],
   "source": [
    "write_csv.to_csv(\"csv_data/jaccard_train_set_2.csv\",index=False)"
   ]
  },
  {
   "cell_type": "code",
   "execution_count": 71,
   "id": "c8a78e15",
   "metadata": {},
   "outputs": [
    {
     "name": "stdout",
     "output_type": "stream",
     "text": [
      "                                                   text  label\n",
      "0     মামা ভয়ে ভয়ে লুকিং গ্লাসের কাপড় সরিয়ে দিয়...      4\n",
      "1     এই বয়সে নাতি নাতনিদের সঙ্গে আনন্দে মেতে থাকার ...      3\n",
      "2                         আপু আপনাকে খুব সুন্দর লাগছে        0\n",
      "3     তোমার শহরের কোণে কেউ মায়া জমায় কি  আমি এখনো ভা...      1\n",
      "4     এর মাথা পুরোটাই নষ্ট  পশ্চিম বঙ্গবাসী একে ভোট ...      2\n",
      "...                                                 ...    ...\n",
      "3715  আমি কষ্টের স্মৃতি নিয়ে করি বসবাস আমায় নিয়ে কখন...      1\n",
      "3716  আজ থেকে অফিসে এবং বাসায় প্রথম আলো পত্রিকা  বাদ...      2\n",
      "3717  এই নোয়াখাইল্লা বাইনচুদেরে বেধে লেংটা করে রোদে ...      2\n",
      "3718  হিরু আলম জায়েদ খান  ওরা ও  নায়েক আর নোবেল ও এক...      3\n",
      "3719  সত্যি সাকিব ভাই আজ আপনি আবার প্রমান করলেন কেন ...      0\n",
      "\n",
      "[3720 rows x 2 columns]\n",
      "['মামা ভয়ে ভয়ে লুকিং গ্লাসের কাপড় বাচ্চাটি রক্তাক্ত চিবাই চিবাই', 'নাতি আনন্দে মেতে থাকার বুড়ো বয়সের ভীমরতি', 'আপু আপনাকে সুন্দর লাগছে', 'শহরের কোণে মায়া জমায় ভাবি ফেরানো', 'মাথা পুরোটাই নষ্ট পশ্চিম বঙ্গবাসী ভোট দেয়']\n"
     ]
    }
   ],
   "source": [
    "print(train_set2)\n",
    "print(final_list[:5])"
   ]
  },
  {
   "cell_type": "code",
   "execution_count": null,
   "id": "41d503f9",
   "metadata": {},
   "outputs": [],
   "source": []
  }
 ],
 "metadata": {
  "kernelspec": {
   "display_name": "Python 3 (ipykernel)",
   "language": "python",
   "name": "python3"
  },
  "language_info": {
   "codemirror_mode": {
    "name": "ipython",
    "version": 3
   },
   "file_extension": ".py",
   "mimetype": "text/x-python",
   "name": "python",
   "nbconvert_exporter": "python",
   "pygments_lexer": "ipython3",
   "version": "3.9.13"
  }
 },
 "nbformat": 4,
 "nbformat_minor": 5
}
