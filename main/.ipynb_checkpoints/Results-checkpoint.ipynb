{
 "cells": [
  {
   "cell_type": "markdown",
   "id": "48773450",
   "metadata": {},
   "source": [
    "# **Results**"
   ]
  },
  {
   "cell_type": "markdown",
   "id": "0d67857d",
   "metadata": {},
   "source": [
    "**train / test / test_set_2** \n",
    "\n",
    ":10 epoch :bert parameter hold after 5"
   ]
  },
  {
   "cell_type": "markdown",
   "id": "723db0a8",
   "metadata": {},
   "source": [
    "accuracy: 64.1897233201581 \n",
    "                precision    recall  f1-score   support\n",
    "\n",
    "           0       0.88      0.73      0.80       311\n",
    "           1       0.64      0.64      0.64       275\n",
    "           2       0.51      0.09      0.15       208\n",
    "           3       0.48      0.83      0.61       289\n",
    "           4       0.78      0.83      0.80       182\n",
    "\n",
    "    accuracy                           0.64      1265\n",
    "   macro avg       0.66      0.62      0.60      1265\n",
    "weighted avg       0.66      0.64      0.61      1265"
   ]
  },
  {
   "cell_type": "markdown",
   "id": "36428d81",
   "metadata": {},
   "source": [
    "**train_set_2 / test_set_2 / test** \n",
    "\n",
    ":10 epoch :bert parameter hold after 5"
   ]
  },
  {
   "cell_type": "markdown",
   "id": "cfe0341d",
   "metadata": {},
   "source": [
    "accuracy: 67.21014492753623\n",
    "              precision    recall  f1-score   support\n",
    "\n",
    "           0       0.77      0.87      0.81       114\n",
    "           1       0.59      0.66      0.63       119\n",
    "           2       0.55      0.49      0.52        71\n",
    "           3       0.64      0.59      0.61       165\n",
    "           4       0.81      0.73      0.77        83\n",
    "\n",
    "    accuracy                           0.67       552\n",
    "   macro avg       0.67      0.67      0.67       552\n",
    "weighted avg       0.67      0.67      0.67       552"
   ]
  },
  {
   "cell_type": "markdown",
   "id": "22b96550",
   "metadata": {},
   "source": [
    "**jaccard_train / test / test_set_2** \n",
    "\n",
    ":10 epoch :bert parameter hold after 5"
   ]
  },
  {
   "cell_type": "markdown",
   "id": "72c12e76",
   "metadata": {},
   "source": [
    "accuracy: 61.42292490118577\n",
    "              precision    recall  f1-score   support\n",
    "\n",
    "           0       0.86      0.73      0.79       311\n",
    "           1       0.52      0.70      0.60       275\n",
    "           2       0.40      0.05      0.09       208\n",
    "           3       0.48      0.76      0.59       289\n",
    "           4       0.86      0.70      0.77       182\n",
    "\n",
    "    accuracy                           0.61      1265\n",
    "   macro avg       0.62      0.59      0.57      1265\n",
    "weighted avg       0.62      0.61      0.58      1265"
   ]
  },
  {
   "cell_type": "markdown",
   "id": "6a6d67ca",
   "metadata": {},
   "source": [
    "**jaccard_train_set_2 / test_set_2 / test** \n",
    "\n",
    ":10 epoch :bert parameter hold after 5"
   ]
  },
  {
   "cell_type": "markdown",
   "id": "86019797",
   "metadata": {},
   "source": [
    "**train / test / test_set_2** \n",
    "\n",
    ":5 epoch"
   ]
  },
  {
   "cell_type": "markdown",
   "id": "87428de0",
   "metadata": {},
   "source": [
    "**train_set_2 / test_set_2 / test** \n",
    "\n",
    ":5 epoch"
   ]
  },
  {
   "cell_type": "markdown",
   "id": "59d6e11b",
   "metadata": {},
   "source": [
    "**jaccard_train / test / test_set_2** \n",
    "\n",
    ":5 epoch"
   ]
  },
  {
   "cell_type": "markdown",
   "id": "0eabd5e7",
   "metadata": {},
   "source": [
    "**jaccard_train_set_2 / test_set_2 / test** \n",
    "\n",
    ":5 epoch"
   ]
  },
  {
   "cell_type": "markdown",
   "id": "9fda0f8b",
   "metadata": {},
   "source": [
    "**train_set_1 / test_set_1 / test_set_2**\n",
    "\n",
    ":10 epoch :bert parameter hold after 5"
   ]
  },
  {
   "cell_type": "markdown",
   "id": "9cbb2428",
   "metadata": {},
   "source": [
    "accuracy: 37.23320158102767\n",
    "              precision    recall  f1-score   support\n",
    "\n",
    "           0       0.53      0.69      0.60       311\n",
    "           1       0.28      0.63      0.38       275\n",
    "           2       0.36      0.40      0.38       208\n",
    "           3       0.00      0.00      0.00       289\n",
    "           4       0.00      0.00      0.00       182\n",
    "\n",
    "    accuracy                           0.37      1265\n",
    "   macro avg       0.23      0.34      0.27      1265\n",
    "weighted avg       0.25      0.37      0.29      1265\n"
   ]
  },
  {
   "cell_type": "markdown",
   "id": "91430c34",
   "metadata": {},
   "source": [
    "**train_set_2 / test_set_2 / test_set_1**\n",
    "\n",
    ":10 epoch :bert parameter hold after 5"
   ]
  },
  {
   "cell_type": "markdown",
   "id": "73c23242",
   "metadata": {},
   "source": [
    "accuracy: 36.434108527131784\n",
    "              precision    recall  f1-score   support\n",
    "\n",
    "           0       0.73      0.61      0.67       351\n",
    "           1       0.39      0.15      0.21       224\n",
    "           2       0.40      0.13      0.20       269\n",
    "           3       0.15      0.72      0.25       112\n",
    "           4       0.39      0.14      0.21        76\n",
    "\n",
    "    accuracy                           0.36      1032\n",
    "   macro avg       0.41      0.35      0.31      1032\n",
    "weighted avg       0.48      0.36      0.37      1032"
   ]
  },
  {
   "cell_type": "markdown",
   "id": "0cb9c550",
   "metadata": {},
   "source": [
    "**jaccard_train_set_1 / test_set_1 / test_set_2**\n",
    "\n",
    ":10 epoch :bert parameter hold after 5"
   ]
  },
  {
   "cell_type": "markdown",
   "id": "4ef4c9ec",
   "metadata": {},
   "source": [
    "accuracy: 33.83399209486166\n",
    "48\n",
    "              precision    recall  f1-score   support\n",
    "\n",
    "           0       0.49      0.66      0.56       311\n",
    "           1       0.25      0.66      0.36       275\n",
    "           2       0.39      0.20      0.26       208\n",
    "           3       0.00      0.00      0.00       289\n",
    "           4       0.00      0.00      0.00       182\n",
    "\n",
    "    accuracy                           0.34      1265\n",
    "   macro avg       0.22      0.30      0.24      1265\n",
    "weighted avg       0.24      0.34      0.26      1265"
   ]
  },
  {
   "cell_type": "markdown",
   "id": "9dcc531a",
   "metadata": {},
   "source": [
    "**jaccard_train_set_2 / test_set_2 / test_set_1**\n",
    "\n",
    ":10 epoch :bert parameter hold after 5"
   ]
  },
  {
   "cell_type": "markdown",
   "id": "621c3689",
   "metadata": {},
   "source": [
    "accuracy: 36.91860465116279\n",
    "51\n",
    "                precision    recall  f1-score   support\n",
    "\n",
    "           0       0.74      0.52      0.61       351\n",
    "           1       0.28      0.28      0.28       224\n",
    "           2       0.49      0.29      0.37       269\n",
    "           3       0.13      0.41      0.19       112\n",
    "           4       0.28      0.14      0.19        76\n",
    "\n",
    "    accuracy                           0.37      1032\n",
    "   macro avg       0.38      0.33      0.33      1032\n",
    "weighted avg       0.48      0.37      0.40      1032"
   ]
  },
  {
   "cell_type": "markdown",
   "id": "27d428bb",
   "metadata": {},
   "source": [
    "**train_set_1 / test_set_1 / test_set_2** \n",
    "\n",
    ":5 epoch"
   ]
  },
  {
   "cell_type": "markdown",
   "id": "ce37ca37",
   "metadata": {},
   "source": [
    "**train_set_2 / test_set_2 / test_set_1** \n",
    "\n",
    ":5 epoch"
   ]
  },
  {
   "cell_type": "markdown",
   "id": "46dd01b5",
   "metadata": {},
   "source": [
    "**jaccard_train_set_1 / test_set_1 / test_set_2** \n",
    "\n",
    ":5 epoch"
   ]
  },
  {
   "cell_type": "markdown",
   "id": "7de23890",
   "metadata": {},
   "source": [
    "accuracy: 34.387351778656125\n",
    "              precision    recall  f1-score   support\n",
    "\n",
    "           0       0.49      0.70      0.57       311\n",
    "           1       0.25      0.54      0.34       275\n",
    "           2       0.31      0.32      0.31       208\n",
    "           3       0.00      0.00      0.00       289\n",
    "           4       0.00      0.00      0.00       182\n",
    "\n",
    "    accuracy                           0.34      1265\n",
    "   macro avg       0.21      0.31      0.25      1265\n",
    "weighted avg       0.22      0.34      0.27      1265"
   ]
  },
  {
   "cell_type": "markdown",
   "id": "80c7fdf5",
   "metadata": {},
   "source": [
    "**jaccard_train_set_2 / test_set_2 / test_set_1** \n",
    "\n",
    ":5 epoch"
   ]
  },
  {
   "cell_type": "markdown",
   "id": "c3f011ff",
   "metadata": {},
   "source": [
    "accuracy: 37.4031007751938\n",
    "              precision    recall  f1-score   support\n",
    "\n",
    "           0       0.69      0.55      0.61       351\n",
    "           1       0.32      0.24      0.27       224\n",
    "           2       0.52      0.27      0.36       269\n",
    "           3       0.13      0.49      0.21       112\n",
    "           4       0.35      0.16      0.22        76\n",
    "\n",
    "    accuracy                           0.37      1032\n",
    "   macro avg       0.40      0.34      0.33      1032\n",
    "weighted avg       0.48      0.37      0.40      1032\n"
   ]
  }
 ],
 "metadata": {
  "kernelspec": {
   "display_name": "Python 3 (ipykernel)",
   "language": "python",
   "name": "python3"
  },
  "language_info": {
   "codemirror_mode": {
    "name": "ipython",
    "version": 3
   },
   "file_extension": ".py",
   "mimetype": "text/x-python",
   "name": "python",
   "nbconvert_exporter": "python",
   "pygments_lexer": "ipython3",
   "version": "3.9.13"
  }
 },
 "nbformat": 4,
 "nbformat_minor": 5
}
