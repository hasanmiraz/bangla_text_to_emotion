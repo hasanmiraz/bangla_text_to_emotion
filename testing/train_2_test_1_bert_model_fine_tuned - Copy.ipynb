{
 "cells": [
  {
   "cell_type": "code",
   "execution_count": null,
   "id": "86eae517",
   "metadata": {},
   "outputs": [],
   "source": [
    "import torch\n",
    "torch.cuda.is_available()"
   ]
  },
  {
   "cell_type": "code",
   "execution_count": null,
   "id": "6ceac7fc",
   "metadata": {},
   "outputs": [],
   "source": [
    "from bnlp import BasicTokenizer\n",
    "tokenizer = BasicTokenizer()"
   ]
  },
  {
   "cell_type": "code",
   "execution_count": null,
   "id": "83b43224",
   "metadata": {},
   "outputs": [],
   "source": [
    "def create_corpus(texts):\n",
    "    corpus=[]\n",
    "\n",
    "    for txt in texts:\n",
    "        tokens = tokenizer.tokenize(txt)\n",
    "        corpus.extend(tokens)\n",
    "\n",
    "    return corpus"
   ]
  },
  {
   "cell_type": "code",
   "execution_count": null,
   "id": "cb277909",
   "metadata": {},
   "outputs": [],
   "source": [
    "from collections import defaultdict\n",
    "from collections import  Counter\n",
    "from bnlp.corpus import stopwords\n",
    "import matplotlib.font_manager as fm\n",
    "\n",
    "def show_stop_words(corpus, length=20):\n",
    "  dic = defaultdict(int)\n",
    "\n",
    "  for word in corpus:\n",
    "      if word in stopwords:\n",
    "          dic[word]+=1\n",
    "\n",
    "  top=sorted(dic.items(), key=lambda x:x[1],reverse=True)[:length]\n",
    "  x,y=zip(*top)\n",
    "  print(x)\n",
    "  print(y)\n",
    "  plt.figure(figsize=(10,5))\n",
    "  plt.bar(x,y)\n",
    "  plt.show()"
   ]
  },
  {
   "cell_type": "code",
   "execution_count": null,
   "id": "8e32e712",
   "metadata": {},
   "outputs": [],
   "source": [
    "from bnlp.corpus import stopwords, punctuations, digits\n",
    "\n",
    "def filters(corpus):\n",
    "    res = []\n",
    "    for i in corpus:\n",
    "        if i in stopwords:\n",
    "            continue\n",
    "\n",
    "        if i in punctuations + '‘' + '’':\n",
    "            continue\n",
    "        if i in digits:\n",
    "            continue\n",
    "\n",
    "        res.append(i)\n",
    "\n",
    "    return res"
   ]
  },
  {
   "cell_type": "code",
   "execution_count": null,
   "id": "90c0b2a8",
   "metadata": {},
   "outputs": [],
   "source": [
    "def get_top_words(corpus):\n",
    "    dic = defaultdict(int)\n",
    "\n",
    "    for word in corpus:\n",
    "        dic[word] +=1\n",
    "    top = sorted(dic.items(), key=lambda x:x[1],reverse=True)\n",
    "    x,y=zip(*top)\n",
    "    return x, y"
   ]
  },
  {
   "cell_type": "markdown",
   "id": "a90b005f",
   "metadata": {},
   "source": [
    "# Imports"
   ]
  },
  {
   "cell_type": "code",
   "execution_count": 1,
   "id": "276d0f37",
   "metadata": {},
   "outputs": [],
   "source": [
    "import pandas as pd\n",
    "train_set = pd.read_csv(\"stop_words_removed_train_set_2.csv\")\n",
    "test_set = pd.read_csv(\"test_set_2.csv\")\n",
    "validate_set = pd.read_csv(\"test_set_1.csv\")"
   ]
  },
  {
   "cell_type": "code",
   "execution_count": 2,
   "id": "12e27a6a",
   "metadata": {},
   "outputs": [],
   "source": [
    "import time\n",
    "from transformers import AutoModel, BertTokenizerFast\n",
    "import numpy as np\n",
    "import pandas as pd\n",
    "import torch\n",
    "import torch.nn as nn\n",
    "from torch.optim import AdamW\n",
    "from torch.utils.data import DataLoader\n",
    "from torch.utils.data import Dataset\n",
    "from tqdm.notebook import tqdm\n",
    "from transformers import BertModel, BertTokenizer, BertForSequenceClassification"
   ]
  },
  {
   "cell_type": "code",
   "execution_count": null,
   "id": "4a28215d",
   "metadata": {},
   "outputs": [],
   "source": [
    "train_list = train_set.values.tolist()"
   ]
  },
  {
   "cell_type": "code",
   "execution_count": null,
   "id": "0285e66a",
   "metadata": {},
   "outputs": [],
   "source": [
    "# print(x)\n",
    "p = ['একটা','হয়ে','কথা','মানুষ','এক','দিয়ে','সাথে','যায়','হয়েছে',\n",
    "     'মত','টা','একজন','বড়','বাংলাদেশ','সময়','মানুষের','সবাই','ভিডিও',\n",
    "     'টাকা','দেশের','একটু','লাগে','মন','দেশে','আল্লাহ','গুলো','বছর','বাংলাদেশের',\n",
    "     'এসব','বাবা','ছবি','জানি','আসে','দেখি','আরো','পড়ে','চোখ',\n",
    "     'মাঝে','কারণে','উঠে','ছাড়া','এখনো','এভাবে','কমেন্ট','আজকে','দিলে','—','যাওয়ার',\n",
    "     'সোমবার','ক্যাম্পাসে','কিনা','জাতীয়','গতকাল','পড়তে','আমিন','শব্দ','হয়ত','করবো',\n",
    "     'ইচ্ছা','কিনা','এলো','ঈদ','ঢাকার','চলছে','অনুষ্ঠান','ভাইয়ের','বৃষ্টি','আসার','তাদেরকে','রইল',\n",
    "     'আমিও','ফেসবুক','দিয়েছেন','পরিবেশ','এইরকম','নেওয়ার','আব্বু','দক্ষিণ','সাদা',\n",
    "     'অনুষ্ঠিত','দিব','উঠছে','এতটা','করল','নাম্বার','সমাজে','বিয়েতে','লাগল','মো','চট্টগ্রামের',\n",
    "     'শরীরে','রাজধানী','করলেও','মেয়ের','প্রথমে','পূরণ','লাইক','আপুর','পারো','ম্যাচের',\n",
    "     'মানায়','নিকট','দেহ','পারতাম','পারতো','পত্রিকা','পারভেজ','আলম','ছাত্রীকে','অামি',\n",
    "     'বাচ্চারা','এমনই','হলুদ','মানবতা','পুরোপুরি','হয়তবা','বাতাস', 'হও', 'কাহিনী','ফেরার',\n",
    "     'ছয়', 'মিয়ার', 'আসেনা','বাস্তব', 'অর্জন', 'বৃদ্ধ', 'মতন', 'খেলতে', 'বানাতে', 'লাগিয়ে',\n",
    "     'ছবিও', 'মাংস', 'মেঝেতে','আমিই','দেখেছিলাম','রং','ভাবেননি','দিন','ছবি','কিন্তু','শুরু','অথচ',\n",
    "     'রাতে','যারা','মনে','এখনে','মানুষ','আমাকে','কথা','গেছে','শুরু','আমিও','করে','পুরো','আমাদের',\n",
    "     'দিলো','সেই','যে','তবে','টা','তার ','এই ','হচ্ছে ','ছিল ','অনেক ','খুবি ','এর ','বলেন ','পেলে',\n",
    "     'বয়সের', 'কে', 'হয়','হয়ে'\n",
    "     ]\n",
    "n=set(p)\n",
    "print(len(n))"
   ]
  },
  {
   "cell_type": "code",
   "execution_count": null,
   "id": "aac47fb1",
   "metadata": {},
   "outputs": [],
   "source": [
    "for i in range(len(train_list)):\n",
    "    for j in n:\n",
    "        if \" \"+j+\" \" in train_list[i][0]:\n",
    "            train_list[i][0]=train_list[i][0].replace(j,\"\")\n",
    "        elif j+\" \" in train_list[i][0]:\n",
    "            train_list[i][0]=train_list[i][0].replace(j,\"\")\n",
    "        elif \" \"+j in train_list[i][0]:\n",
    "            train_list[i][0]=train_list[i][0].replace(j,\"\")\n",
    "        else:\n",
    "            continue"
   ]
  },
  {
   "cell_type": "code",
   "execution_count": null,
   "id": "2b568135",
   "metadata": {},
   "outputs": [],
   "source": [
    "train_set = pd.DataFrame(train_list, columns = ['text', 'label'])\n"
   ]
  },
  {
   "cell_type": "markdown",
   "id": "9b2cbc58",
   "metadata": {},
   "source": [
    "# Optoimizing dataset"
   ]
  },
  {
   "cell_type": "code",
   "execution_count": 3,
   "id": "bc7be37d",
   "metadata": {},
   "outputs": [],
   "source": [
    "class makeDataset(Dataset):\n",
    "    def __init__(self, data, max_length=100):\n",
    "        self.data = data\n",
    "        \n",
    "        self.config = {\n",
    "            \"max_length\": max_length,\n",
    "            \"padding\": \"max_length\",\n",
    "            \"return_tensors\": \"pt\",\n",
    "            \"truncation\": True,\n",
    "            \"add_special_tokens\": True\n",
    "        }\n",
    "\n",
    "    def __len__(self):\n",
    "        return len(self.data)\n",
    "\n",
    "    def __getitem__(self, idx):\n",
    "        value = self.data.iloc[idx]\n",
    "        return value['text'], value['label']"
   ]
  },
  {
   "cell_type": "markdown",
   "id": "5f04b6de",
   "metadata": {},
   "source": [
    "# Training data 2 testing data 2 final testing data 1"
   ]
  },
  {
   "cell_type": "code",
   "execution_count": 4,
   "id": "dbc1a269",
   "metadata": {},
   "outputs": [],
   "source": [
    "training_data = makeDataset(train_set)\n",
    "train_dataloader = DataLoader(training_data, batch_size=16, shuffle=True)"
   ]
  },
  {
   "cell_type": "code",
   "execution_count": 5,
   "id": "10a587e0",
   "metadata": {},
   "outputs": [],
   "source": [
    "test_data = makeDataset(test_set)\n",
    "test_dataloader = DataLoader(test_data, batch_size=16, shuffle=True)"
   ]
  },
  {
   "cell_type": "code",
   "execution_count": 6,
   "id": "0d749630",
   "metadata": {},
   "outputs": [],
   "source": [
    "final_test_data = makeDataset(validate_set)\n",
    "final_test_dataloader = DataLoader(final_test_data, batch_size=16, shuffle=True)"
   ]
  },
  {
   "cell_type": "code",
   "execution_count": 7,
   "id": "b2cb64ad",
   "metadata": {},
   "outputs": [],
   "source": [
    "class newEmotionBert(nn.Module):\n",
    "\n",
    "    def __init__(self, bert):\n",
    "        super(newEmotionBert, self).__init__()\n",
    "\n",
    "        self.bert = bert\n",
    "        \n",
    "        self.embedding = nn.EmbeddingBag(15000, 500, sparse=True)\n",
    "\n",
    "        # dropout layer\n",
    "        self.dropout = nn.Dropout(0.2)\n",
    "\n",
    "        # relu activation function\n",
    "        self.relu = nn.ReLU()\n",
    "\n",
    "        # dense layer 1\n",
    "        self.fc1 = nn.Linear(768, 328)\n",
    "\n",
    "        # dense layer 2 (Output layer)\n",
    "        self.fc2 = nn.Linear(328, 5)  \n",
    "        self.softmax = nn.LogSoftmax(dim=1)\n",
    "#         self.init_weights()\n",
    "#     def init_weights(self):\n",
    "#         initrange = .5\n",
    "#         self.embedding.weight.data.uniform_(-initrange, initrange)\n",
    "#         self.fc1.weight.data.uniform_(-initrange, initrange)\n",
    "#         self.fc1.bias.data.zero_()\n",
    "#         self.fc2.weight.data.uniform_(-initrange, initrange)\n",
    "#         self.fc2.bias.data.zero_()\n",
    "\n",
    "    # define the forward pass\n",
    "    def forward(self, input_ids, token_type_ids, attention_mask):\n",
    "        # pass the inputs to the model\n",
    "        out = self.bert(input_ids, attention_mask=attention_mask, token_type_ids=token_type_ids)\n",
    "        \n",
    "        x = self.fc1(out[1])\n",
    "        x = self.relu(x)\n",
    "        # output layer\n",
    "        x = self.fc2(self.dropout(x))\n",
    "        \n",
    "        x = self.softmax(x)\n",
    "        return x"
   ]
  },
  {
   "cell_type": "code",
   "execution_count": 8,
   "id": "e2a2c62d",
   "metadata": {},
   "outputs": [
    {
     "name": "stderr",
     "output_type": "stream",
     "text": [
      "Some weights of the model checkpoint at sagorsarker/bangla-bert-base were not used when initializing BertModel: ['cls.predictions.transform.LayerNorm.bias', 'cls.seq_relationship.bias', 'cls.predictions.decoder.weight', 'cls.seq_relationship.weight', 'cls.predictions.bias', 'cls.predictions.transform.dense.weight', 'cls.predictions.transform.dense.bias', 'cls.predictions.transform.LayerNorm.weight']\n",
      "- This IS expected if you are initializing BertModel from the checkpoint of a model trained on another task or with another architecture (e.g. initializing a BertForSequenceClassification model from a BertForPreTraining model).\n",
      "- This IS NOT expected if you are initializing BertModel from the checkpoint of a model that you expect to be exactly identical (initializing a BertForSequenceClassification model from a BertForSequenceClassification model).\n"
     ]
    }
   ],
   "source": [
    "bert_model_name = \"sagorsarker/bangla-bert-base\"\n",
    "bert = BertModel.from_pretrained(bert_model_name)\n",
    "tokenizer = BertTokenizer.from_pretrained(bert_model_name)"
   ]
  },
  {
   "cell_type": "code",
   "execution_count": 9,
   "id": "b7764163",
   "metadata": {},
   "outputs": [],
   "source": [
    "device = torch.device(\"cuda\" if torch.cuda.is_available() else \"cpu\")\n",
    "model = newEmotionBert(bert)\n",
    "model.to(device);"
   ]
  },
  {
   "cell_type": "code",
   "execution_count": 10,
   "id": "69ed3feb",
   "metadata": {},
   "outputs": [],
   "source": [
    "from torch.optim.lr_scheduler import StepLR\n",
    "\n",
    "optimizer = AdamW(model.parameters(), lr=1e-5)\n",
    "criterion = nn.NLLLoss()\n",
    "scheduler = StepLR(optimizer, step_size=2, gamma=0.1)"
   ]
  },
  {
   "cell_type": "code",
   "execution_count": 11,
   "id": "252e419f",
   "metadata": {},
   "outputs": [],
   "source": [
    "from time import sleep\n",
    "def train(model, dataloader, optimizer, criterion, config):\n",
    "    model.train()  # prep model for training\n",
    "    train_loss = 0\n",
    "    for batch in tqdm(dataloader):\n",
    "        text, labels = batch\n",
    "\n",
    "        model.zero_grad()\n",
    "\n",
    "        inputs = tokenizer.batch_encode_plus(\n",
    "            text, **config\n",
    "        )\n",
    "        input_ids = inputs['input_ids'].to(device)\n",
    "        token_type_ids = inputs['token_type_ids'].to(device)\n",
    "        attention_mask = inputs['attention_mask'].to(device)\n",
    "        labels = labels.to(device)\n",
    "\n",
    "        # move things to model\n",
    "        logs = model(token_type_ids=token_type_ids, input_ids=input_ids, attention_mask=attention_mask)\n",
    "\n",
    "        loss = criterion(logs, labels)\n",
    "        train_loss += loss.item() * input_ids.size(0)\n",
    "        loss.backward()\n",
    "\n",
    "        # clip the the gradients to 1.0. It helps in preventing the exploding gradient problem\n",
    "        nn.utils.clip_grad_norm_(model.parameters(), 1.0)\n",
    "        optimizer.step()\n",
    "\n",
    "    return train_loss"
   ]
  },
  {
   "cell_type": "code",
   "execution_count": 12,
   "id": "2028b7e7",
   "metadata": {},
   "outputs": [],
   "source": [
    "def evaluate(model, dataloader, criterion, config):\n",
    "    total = 0\n",
    "    correct = 0\n",
    "    valid_loss = 0.0\n",
    "\n",
    "    model.eval()  # prep model for evaluation\n",
    "    for batch in tqdm(dataloader):\n",
    "        text, labels = batch\n",
    "        inputs = tokenizer.batch_encode_plus(\n",
    "            text, **config\n",
    "        )\n",
    "        input_ids = inputs['input_ids'].to(device)\n",
    "        token_type_ids = inputs['token_type_ids'].to(device)\n",
    "        attention_mask = inputs['attention_mask'].to(device)\n",
    "        labels = labels.to(device)\n",
    "\n",
    "        # move things to model\n",
    "        output = model(token_type_ids=token_type_ids, input_ids=input_ids, attention_mask=attention_mask)\n",
    "\n",
    "        loss_p = criterion(output, labels)\n",
    "        # update running validation loss\n",
    "        valid_loss += loss_p.item() * input_ids.size(0)\n",
    "        # calculate accuracy\n",
    "        proba = torch.exp(output)\n",
    "        top_p, top_class = proba.topk(1, dim=1)\n",
    "        equals = top_class == labels.view(*top_class.shape)\n",
    "        # accuracy += torch.mean(equals.type(torch.FloatTensor)).item()\n",
    "\n",
    "        _, predicted = torch.max(output.data, 1)\n",
    "        total += labels.size(0)\n",
    "        correct += (predicted == labels).sum().item()\n",
    "\n",
    "    return total, correct, valid_loss"
   ]
  },
  {
   "cell_type": "code",
   "execution_count": 13,
   "id": "8a68d722",
   "metadata": {},
   "outputs": [],
   "source": [
    "epochs = 5\n",
    "tokenizer_config = {\n",
    "    \"max_length\": 100,\n",
    "    \"padding\": \"max_length\",\n",
    "    \"return_tensors\": \"pt\",\n",
    "    \"truncation\": True,\n",
    "    \"add_special_tokens\": True\n",
    "}"
   ]
  },
  {
   "cell_type": "code",
   "execution_count": 14,
   "id": "d37488d4",
   "metadata": {
    "scrolled": false
   },
   "outputs": [
    {
     "name": "stdout",
     "output_type": "stream",
     "text": [
      "Epoch: 1/5\n"
     ]
    },
    {
     "data": {
      "application/vnd.jupyter.widget-view+json": {
       "model_id": "8890d4cc451045eaa0c4f38517509f95",
       "version_major": 2,
       "version_minor": 0
      },
      "text/plain": [
       "  0%|          | 0/233 [00:00<?, ?it/s]"
      ]
     },
     "metadata": {},
     "output_type": "display_data"
    },
    {
     "ename": "ValueError",
     "evalue": "Input is not valid. Should be a string, a list/tuple of strings or a list/tuple of integers.",
     "output_type": "error",
     "traceback": [
      "\u001b[1;31m---------------------------------------------------------------------------\u001b[0m",
      "\u001b[1;31mValueError\u001b[0m                                Traceback (most recent call last)",
      "\u001b[1;32m~\\AppData\\Local\\Temp\\ipykernel_7300\\4075389830.py\u001b[0m in \u001b[0;36m<module>\u001b[1;34m\u001b[0m\n\u001b[0;32m     14\u001b[0m \u001b[1;33m\u001b[0m\u001b[0m\n\u001b[0;32m     15\u001b[0m     \u001b[1;31m# Train Model\u001b[0m\u001b[1;33m\u001b[0m\u001b[1;33m\u001b[0m\u001b[0m\n\u001b[1;32m---> 16\u001b[1;33m     \u001b[0mtrain_loss\u001b[0m \u001b[1;33m+=\u001b[0m \u001b[0mtrain\u001b[0m\u001b[1;33m(\u001b[0m\u001b[0mmodel\u001b[0m\u001b[1;33m,\u001b[0m \u001b[0mtrain_dataloader\u001b[0m\u001b[1;33m,\u001b[0m \u001b[0moptimizer\u001b[0m\u001b[1;33m,\u001b[0m \u001b[0mcriterion\u001b[0m\u001b[1;33m,\u001b[0m \u001b[0mtokenizer_config\u001b[0m\u001b[1;33m)\u001b[0m\u001b[1;33m\u001b[0m\u001b[1;33m\u001b[0m\u001b[0m\n\u001b[0m\u001b[0;32m     17\u001b[0m \u001b[1;33m\u001b[0m\u001b[0m\n\u001b[0;32m     18\u001b[0m     \u001b[1;31m# Now Evaluate\u001b[0m\u001b[1;33m\u001b[0m\u001b[1;33m\u001b[0m\u001b[0m\n",
      "\u001b[1;32m~\\AppData\\Local\\Temp\\ipykernel_7300\\2322422238.py\u001b[0m in \u001b[0;36mtrain\u001b[1;34m(model, dataloader, optimizer, criterion, config)\u001b[0m\n\u001b[0;32m      8\u001b[0m         \u001b[0mmodel\u001b[0m\u001b[1;33m.\u001b[0m\u001b[0mzero_grad\u001b[0m\u001b[1;33m(\u001b[0m\u001b[1;33m)\u001b[0m\u001b[1;33m\u001b[0m\u001b[1;33m\u001b[0m\u001b[0m\n\u001b[0;32m      9\u001b[0m \u001b[1;33m\u001b[0m\u001b[0m\n\u001b[1;32m---> 10\u001b[1;33m         inputs = tokenizer.batch_encode_plus(\n\u001b[0m\u001b[0;32m     11\u001b[0m             \u001b[0mtext\u001b[0m\u001b[1;33m,\u001b[0m \u001b[1;33m**\u001b[0m\u001b[0mconfig\u001b[0m\u001b[1;33m\u001b[0m\u001b[1;33m\u001b[0m\u001b[0m\n\u001b[0;32m     12\u001b[0m         )\n",
      "\u001b[1;32m~\\anaconda3\\lib\\site-packages\\transformers\\tokenization_utils_base.py\u001b[0m in \u001b[0;36mbatch_encode_plus\u001b[1;34m(self, batch_text_or_text_pairs, add_special_tokens, padding, truncation, max_length, stride, is_split_into_words, pad_to_multiple_of, return_tensors, return_token_type_ids, return_attention_mask, return_overflowing_tokens, return_special_tokens_mask, return_offsets_mapping, return_length, verbose, **kwargs)\u001b[0m\n\u001b[0;32m   2795\u001b[0m         )\n\u001b[0;32m   2796\u001b[0m \u001b[1;33m\u001b[0m\u001b[0m\n\u001b[1;32m-> 2797\u001b[1;33m         return self._batch_encode_plus(\n\u001b[0m\u001b[0;32m   2798\u001b[0m             \u001b[0mbatch_text_or_text_pairs\u001b[0m\u001b[1;33m=\u001b[0m\u001b[0mbatch_text_or_text_pairs\u001b[0m\u001b[1;33m,\u001b[0m\u001b[1;33m\u001b[0m\u001b[1;33m\u001b[0m\u001b[0m\n\u001b[0;32m   2799\u001b[0m             \u001b[0madd_special_tokens\u001b[0m\u001b[1;33m=\u001b[0m\u001b[0madd_special_tokens\u001b[0m\u001b[1;33m,\u001b[0m\u001b[1;33m\u001b[0m\u001b[1;33m\u001b[0m\u001b[0m\n",
      "\u001b[1;32m~\\anaconda3\\lib\\site-packages\\transformers\\tokenization_utils.py\u001b[0m in \u001b[0;36m_batch_encode_plus\u001b[1;34m(self, batch_text_or_text_pairs, add_special_tokens, padding_strategy, truncation_strategy, max_length, stride, is_split_into_words, pad_to_multiple_of, return_tensors, return_token_type_ids, return_attention_mask, return_overflowing_tokens, return_special_tokens_mask, return_offsets_mapping, return_length, verbose, **kwargs)\u001b[0m\n\u001b[0;32m    731\u001b[0m                 \u001b[0mids\u001b[0m\u001b[1;33m,\u001b[0m \u001b[0mpair_ids\u001b[0m \u001b[1;33m=\u001b[0m \u001b[0mids_or_pair_ids\u001b[0m\u001b[1;33m\u001b[0m\u001b[1;33m\u001b[0m\u001b[0m\n\u001b[0;32m    732\u001b[0m \u001b[1;33m\u001b[0m\u001b[0m\n\u001b[1;32m--> 733\u001b[1;33m             \u001b[0mfirst_ids\u001b[0m \u001b[1;33m=\u001b[0m \u001b[0mget_input_ids\u001b[0m\u001b[1;33m(\u001b[0m\u001b[0mids\u001b[0m\u001b[1;33m)\u001b[0m\u001b[1;33m\u001b[0m\u001b[1;33m\u001b[0m\u001b[0m\n\u001b[0m\u001b[0;32m    734\u001b[0m             \u001b[0msecond_ids\u001b[0m \u001b[1;33m=\u001b[0m \u001b[0mget_input_ids\u001b[0m\u001b[1;33m(\u001b[0m\u001b[0mpair_ids\u001b[0m\u001b[1;33m)\u001b[0m \u001b[1;32mif\u001b[0m \u001b[0mpair_ids\u001b[0m \u001b[1;32mis\u001b[0m \u001b[1;32mnot\u001b[0m \u001b[1;32mNone\u001b[0m \u001b[1;32melse\u001b[0m \u001b[1;32mNone\u001b[0m\u001b[1;33m\u001b[0m\u001b[1;33m\u001b[0m\u001b[0m\n\u001b[0;32m    735\u001b[0m             \u001b[0minput_ids\u001b[0m\u001b[1;33m.\u001b[0m\u001b[0mappend\u001b[0m\u001b[1;33m(\u001b[0m\u001b[1;33m(\u001b[0m\u001b[0mfirst_ids\u001b[0m\u001b[1;33m,\u001b[0m \u001b[0msecond_ids\u001b[0m\u001b[1;33m)\u001b[0m\u001b[1;33m)\u001b[0m\u001b[1;33m\u001b[0m\u001b[1;33m\u001b[0m\u001b[0m\n",
      "\u001b[1;32m~\\anaconda3\\lib\\site-packages\\transformers\\tokenization_utils.py\u001b[0m in \u001b[0;36mget_input_ids\u001b[1;34m(text)\u001b[0m\n\u001b[0;32m    711\u001b[0m                 \u001b[1;32mreturn\u001b[0m \u001b[0mtext\u001b[0m\u001b[1;33m\u001b[0m\u001b[1;33m\u001b[0m\u001b[0m\n\u001b[0;32m    712\u001b[0m             \u001b[1;32melse\u001b[0m\u001b[1;33m:\u001b[0m\u001b[1;33m\u001b[0m\u001b[1;33m\u001b[0m\u001b[0m\n\u001b[1;32m--> 713\u001b[1;33m                 raise ValueError(\n\u001b[0m\u001b[0;32m    714\u001b[0m                     \u001b[1;34m\"Input is not valid. Should be a string, a list/tuple of strings or a list/tuple of integers.\"\u001b[0m\u001b[1;33m\u001b[0m\u001b[1;33m\u001b[0m\u001b[0m\n\u001b[0;32m    715\u001b[0m                 )\n",
      "\u001b[1;31mValueError\u001b[0m: Input is not valid. Should be a string, a list/tuple of strings or a list/tuple of integers."
     ]
    }
   ],
   "source": [
    "train_loss_data, valid_loss_data = [], []\n",
    "valid_loss_min = np.Inf\n",
    "since = time.time()\n",
    "best_loss = np.inf\n",
    "\n",
    "for epoch in range(epochs):\n",
    "    print(\"Epoch: {}/{}\".format(epoch + 1, epochs))\n",
    "    # monitor training loss\n",
    "    train_loss = 0.0\n",
    "    valid_loss = 0.0\n",
    "    total = 0\n",
    "    correct = 0\n",
    "    e_since = time.time()\n",
    "\n",
    "    # Train Model\n",
    "    train_loss += train(model, train_dataloader, optimizer, criterion, tokenizer_config)\n",
    "\n",
    "    # Now Evaluate\n",
    "    out = evaluate(model, test_dataloader, criterion, tokenizer_config)\n",
    "\n",
    "    total += out[0]\n",
    "    correct += out[1]\n",
    "    valid_loss += out[2]\n",
    "\n",
    "    scheduler.step()\n",
    "\n",
    "    # print training/validation statistics\n",
    "    # calculate average loss over an epoch\n",
    "    train_loss = train_loss / len(train_dataloader.dataset)\n",
    "    valid_loss = valid_loss / len(test_dataloader.dataset)\n",
    "\n",
    "    # calculate train loss and running loss\n",
    "    train_loss_data.append(train_loss * 100)\n",
    "    valid_loss_data.append(valid_loss * 100)\n",
    "    \n",
    "    if valid_loss < best_loss:\n",
    "        best_loss = valid_loss\n",
    "        torch.save(model.state_dict(), \"new_emotion_model.pth\")\n",
    "\n",
    "    print(\"\\tTrain loss:{:.6f}..\".format(train_loss),\n",
    "          \"\\tValid Loss:{:.6f}..\".format(valid_loss),\n",
    "          \"\\tAccuracy: {:.4f}\".format(correct / total * 100))\n",
    "\n",
    "time_elapsed = time.time() - since\n",
    "print('Training completed in {:.0f}m {:.0f}s'.format(\n",
    "    time_elapsed // 60, time_elapsed % 60))"
   ]
  },
  {
   "cell_type": "code",
   "execution_count": null,
   "id": "3b709078",
   "metadata": {},
   "outputs": [],
   "source": []
  },
  {
   "cell_type": "code",
   "execution_count": null,
   "id": "c6c487a3",
   "metadata": {},
   "outputs": [],
   "source": [
    "model.load_state_dict(torch.load(\"./new_emotion_model.pth\", map_location = device))"
   ]
  },
  {
   "cell_type": "code",
   "execution_count": null,
   "id": "6c15f376",
   "metadata": {},
   "outputs": [],
   "source": [
    "all_preds = []\n",
    "all_labels = []\n",
    "\n",
    "for batch in final_test_dataloader:\n",
    "    text, labels = batch\n",
    "    inputs = tokenizer.batch_encode_plus(\n",
    "        text, **tokenizer_config\n",
    "    )\n",
    "    input_ids = inputs['input_ids'].to(device)\n",
    "    token_type_ids = inputs['token_type_ids'].to(device)\n",
    "    attention_mask = inputs['attention_mask'].to(device)\n",
    "    labels = labels.to(device)\n",
    "\n",
    "    # move things to model\n",
    "    output = model(token_type_ids=token_type_ids, input_ids=input_ids, attention_mask=attention_mask)\n",
    "    preds = output.detach().cpu().numpy()\n",
    "    preds = np.argmax(preds, axis = 1)\n",
    "    all_preds.extend(preds)\n",
    "    all_labels.extend(labels.cpu().numpy())"
   ]
  },
  {
   "cell_type": "code",
   "execution_count": null,
   "id": "23304327",
   "metadata": {},
   "outputs": [],
   "source": [
    "correct = 0\n",
    "for i in range(len(all_labels)):\n",
    "    if all_labels[i]==all_preds[i]:\n",
    "        correct+=1\n",
    "print(correct)"
   ]
  },
  {
   "cell_type": "code",
   "execution_count": null,
   "id": "eab8f1c1",
   "metadata": {},
   "outputs": [],
   "source": [
    "print(f\"accuracy: {correct/len(all_labels)*100}\")"
   ]
  },
  {
   "cell_type": "code",
   "execution_count": null,
   "id": "bf7a88a3",
   "metadata": {},
   "outputs": [],
   "source": [
    "print(bert.embeddings.word_embeddings.weight[101])"
   ]
  },
  {
   "cell_type": "code",
   "execution_count": null,
   "id": "2d65ea3e",
   "metadata": {},
   "outputs": [],
   "source": [
    "print(bert.embeddings.word_embeddings.weight[10])"
   ]
  },
  {
   "cell_type": "code",
   "execution_count": null,
   "id": "eb8b3776",
   "metadata": {},
   "outputs": [],
   "source": [
    "print(bert.embeddings.word_embeddings.weight)"
   ]
  },
  {
   "cell_type": "code",
   "execution_count": null,
   "id": "869d8a78",
   "metadata": {},
   "outputs": [],
   "source": [
    "in_correct = []\n",
    "for i in range(len(all_labels)):\n",
    "    if all_labels[i]!=all_preds[i]:\n",
    "        in_correct.append(train_set[\"text\"][i])\n",
    "print(in_correct)"
   ]
  },
  {
   "cell_type": "code",
   "execution_count": null,
   "id": "1f3fa888",
   "metadata": {},
   "outputs": [],
   "source": [
    "len(in_correct)"
   ]
  },
  {
   "cell_type": "code",
   "execution_count": null,
   "id": "97ad387f",
   "metadata": {},
   "outputs": [],
   "source": [
    "position = []\n",
    "for i in range(len(all_labels)):\n",
    "    if all_labels[i]!=all_preds[i]:\n",
    "        position.append([i])\n",
    "print(position)"
   ]
  },
  {
   "cell_type": "code",
   "execution_count": null,
   "id": "4db230c6",
   "metadata": {},
   "outputs": [],
   "source": [
    "\n",
    "for i in range(len(all_labels)):\n",
    "    if all_labels[i]!=all_preds[i]:\n",
    "        print(f\"{all_labels[i]} and {all_preds[i]}\")"
   ]
  },
  {
   "cell_type": "code",
   "execution_count": null,
   "id": "c6286000",
   "metadata": {},
   "outputs": [],
   "source": [
    "wrong = []\n",
    "for i in position:\n",
    "    wrong.append(validate_set[\"text\"][i[0]])"
   ]
  },
  {
   "cell_type": "code",
   "execution_count": null,
   "id": "3ffb3cba",
   "metadata": {},
   "outputs": [],
   "source": [
    "print(wrong)"
   ]
  },
  {
   "cell_type": "code",
   "execution_count": null,
   "id": "47ec8193",
   "metadata": {},
   "outputs": [],
   "source": [
    "# train_set = pd.DataFrame(train_list, columns = ['a','text', 'label'])\n",
    "val = create_corpus(wrong)\n",
    "val_filtered = filters(val)\n",
    "x, y = get_top_words(val_filtered)"
   ]
  },
  {
   "cell_type": "code",
   "execution_count": null,
   "id": "f4b000cd",
   "metadata": {},
   "outputs": [],
   "source": [
    "print(x)"
   ]
  },
  {
   "cell_type": "code",
   "execution_count": null,
   "id": "2118a107",
   "metadata": {},
   "outputs": [],
   "source": [
    "len(x)"
   ]
  },
  {
   "cell_type": "code",
   "execution_count": null,
   "id": "3e59e5e7",
   "metadata": {},
   "outputs": [],
   "source": []
  }
 ],
 "metadata": {
  "kernelspec": {
   "display_name": "Python 3 (ipykernel)",
   "language": "python",
   "name": "python3"
  },
  "language_info": {
   "codemirror_mode": {
    "name": "ipython",
    "version": 3
   },
   "file_extension": ".py",
   "mimetype": "text/x-python",
   "name": "python",
   "nbconvert_exporter": "python",
   "pygments_lexer": "ipython3",
   "version": "3.9.13"
  }
 },
 "nbformat": 4,
 "nbformat_minor": 5
}
