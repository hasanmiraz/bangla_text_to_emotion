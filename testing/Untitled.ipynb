{
 "cells": [
  {
   "cell_type": "code",
   "execution_count": 27,
   "id": "8a17298e",
   "metadata": {},
   "outputs": [],
   "source": [
    "import pandas as pd"
   ]
  },
  {
   "cell_type": "code",
   "execution_count": 28,
   "id": "0f57a199",
   "metadata": {},
   "outputs": [],
   "source": [
    "train = pd.read_excel(\"train.xlsx\")\n",
    "test = pd.read_excel(\"test.xlsx\")"
   ]
  },
  {
   "cell_type": "code",
   "execution_count": 29,
   "id": "5f62785b",
   "metadata": {},
   "outputs": [
    {
     "name": "stdout",
     "output_type": "stream",
     "text": [
      "      Unnamed: 0                                               text  classes  \\\n",
      "0              0  মেডিকেলে এসে ঠিক ফ্যামিলির ফটো ফ্রেম এর মতো মন...  sadness   \n",
      "1              1  অনেক দিন পর অন্য রকম অনুভূতি হচ্ছে  কেননা আমার...  sadness   \n",
      "2              2  আগে যতোটা বেশি পছন্দ করতাম দুশ্চরিত্রা মিথিলা ...  disgust   \n",
      "3              3  মাঝে মাঝে মনে হয় তোমাকে চাওয়াটা অনেক ভুল হয়ত ভ...  sadness   \n",
      "4              4  এখানে কাওকে কবর দিয়ো না তাহলে তোমাদের পরিবারের...     fear   \n",
      "...          ...                                                ...      ...   \n",
      "4989        4989  আর  এত  টাকার  কাজই   বা  কিভাবে   করলো আজ  কা...  disgust   \n",
      "4990        4990  আমি মনে করি হাফপ্যান্ট পরে নাচগান হচ্ছে নোংরাম...  disgust   \n",
      "4991        4991  বিরক্ত করাও সম্ভবত এক ধরণের ভালোবাসা এই ইগোয়িস...  sadness   \n",
      "4992        4992  এই মূহুর্তে আমার আর সহ্য হচ্ছে না সমস্যাগুলো ম...  disgust   \n",
      "4993        4993  ২২ শ্রাবণের মতো থ্রিলার বানানো সৃজিত এমন অসংলগ...  disgust   \n",
      "\n",
      "      label  \n",
      "0         1  \n",
      "1         1  \n",
      "2         3  \n",
      "3         1  \n",
      "4         5  \n",
      "...     ...  \n",
      "4989      3  \n",
      "4990      3  \n",
      "4991      1  \n",
      "4992      3  \n",
      "4993      3  \n",
      "\n",
      "[4994 rows x 4 columns]\n"
     ]
    }
   ],
   "source": [
    "print(train)"
   ]
  },
  {
   "cell_type": "code",
   "execution_count": 30,
   "id": "5bbcd3bd",
   "metadata": {},
   "outputs": [],
   "source": [
    "train = train.drop(columns=['Unnamed: 0', 'label'])\n",
    "test = test.drop(columns=['Unnamed: 0', 'label'])"
   ]
  },
  {
   "cell_type": "code",
   "execution_count": 31,
   "id": "a23bc51d",
   "metadata": {},
   "outputs": [
    {
     "name": "stdout",
     "output_type": "stream",
     "text": [
      "                                                   text  classes\n",
      "0     মেডিকেলে এসে ঠিক ফ্যামিলির ফটো ফ্রেম এর মতো মন...  sadness\n",
      "1     অনেক দিন পর অন্য রকম অনুভূতি হচ্ছে  কেননা আমার...  sadness\n",
      "2     আগে যতোটা বেশি পছন্দ করতাম দুশ্চরিত্রা মিথিলা ...  disgust\n",
      "3     মাঝে মাঝে মনে হয় তোমাকে চাওয়াটা অনেক ভুল হয়ত ভ...  sadness\n",
      "4     এখানে কাওকে কবর দিয়ো না তাহলে তোমাদের পরিবারের...     fear\n",
      "...                                                 ...      ...\n",
      "4989  আর  এত  টাকার  কাজই   বা  কিভাবে   করলো আজ  কা...  disgust\n",
      "4990  আমি মনে করি হাফপ্যান্ট পরে নাচগান হচ্ছে নোংরাম...  disgust\n",
      "4991  বিরক্ত করাও সম্ভবত এক ধরণের ভালোবাসা এই ইগোয়িস...  sadness\n",
      "4992  এই মূহুর্তে আমার আর সহ্য হচ্ছে না সমস্যাগুলো ম...  disgust\n",
      "4993  ২২ শ্রাবণের মতো থ্রিলার বানানো সৃজিত এমন অসংলগ...  disgust\n",
      "\n",
      "[4994 rows x 2 columns]\n"
     ]
    }
   ],
   "source": [
    "print(train)"
   ]
  },
  {
   "cell_type": "code",
   "execution_count": 32,
   "id": "95bd6db9",
   "metadata": {},
   "outputs": [],
   "source": [
    "train_text_list = train.text.tolist()\n",
    "train_class_list = train.classes.tolist()\n",
    "train_new_text_list = []\n",
    "train_new_class_list = []\n",
    "for i in range(len(train_text_list)):\n",
    "    if train_class_list[i] != \"surprise\":\n",
    "        train_new_text_list.append(train_text_list[i])\n",
    "        train_new_class_list.append(train_class_list[i])"
   ]
  },
  {
   "cell_type": "code",
   "execution_count": 33,
   "id": "1ca7a625",
   "metadata": {},
   "outputs": [],
   "source": [
    "test_text_list = test.text.tolist()\n",
    "test_class_list = test.classes.tolist()\n",
    "test_new_text_list = []\n",
    "test_new_class_list = []\n",
    "for i in range(len(test_text_list)):\n",
    "    if test_class_list[i] != \"surprise\":\n",
    "        test_new_text_list.append(test_text_list[i])\n",
    "        test_new_class_list.append(test_class_list[i])"
   ]
  },
  {
   "cell_type": "code",
   "execution_count": 34,
   "id": "64820b8a",
   "metadata": {},
   "outputs": [],
   "source": [
    "def get_emotion(emotion):\n",
    "    if emotion == \"happy\" or emotion == \"joy\":\n",
    "        return 0\n",
    "    elif emotion == \"sad\" or emotion == \"sadness\":\n",
    "        return 1\n",
    "    elif emotion == \"angry\" or emotion == \"anger\":\n",
    "        return 2\n",
    "    elif emotion == \"disgust\":\n",
    "        return 3\n",
    "    elif emotion == \"fear\":\n",
    "        return 4"
   ]
  },
  {
   "cell_type": "code",
   "execution_count": 35,
   "id": "11403108",
   "metadata": {},
   "outputs": [],
   "source": [
    "train_new_label_list = []\n",
    "test_new_label_list = []\n",
    "for i in train_new_class_list:\n",
    "    train_new_label_list.append(get_emotion(i))\n",
    "for i in test_new_class_list:\n",
    "    test_new_label_list.append(get_emotion(i))"
   ]
  },
  {
   "cell_type": "code",
   "execution_count": 36,
   "id": "ae925b98",
   "metadata": {},
   "outputs": [
    {
     "name": "stdout",
     "output_type": "stream",
     "text": [
      "                                                   text  label    class\n",
      "0     মেডিকেলে এসে ঠিক ফ্যামিলির ফটো ফ্রেম এর মতো মন...      1  sadness\n",
      "1     অনেক দিন পর অন্য রকম অনুভূতি হচ্ছে  কেননা আমার...      1  sadness\n",
      "2     আগে যতোটা বেশি পছন্দ করতাম দুশ্চরিত্রা মিথিলা ...      3  disgust\n",
      "3     মাঝে মাঝে মনে হয় তোমাকে চাওয়াটা অনেক ভুল হয়ত ভ...      1  sadness\n",
      "4     এখানে কাওকে কবর দিয়ো না তাহলে তোমাদের পরিবারের...      4     fear\n",
      "...                                                 ...    ...      ...\n",
      "4399  আর  এত  টাকার  কাজই   বা  কিভাবে   করলো আজ  কা...      3  disgust\n",
      "4400  আমি মনে করি হাফপ্যান্ট পরে নাচগান হচ্ছে নোংরাম...      3  disgust\n",
      "4401  বিরক্ত করাও সম্ভবত এক ধরণের ভালোবাসা এই ইগোয়িস...      1  sadness\n",
      "4402  এই মূহুর্তে আমার আর সহ্য হচ্ছে না সমস্যাগুলো ম...      3  disgust\n",
      "4403  ২২ শ্রাবণের মতো থ্রিলার বানানো সৃজিত এমন অসংলগ...      3  disgust\n",
      "\n",
      "[4404 rows x 3 columns]\n",
      "\n",
      "                                                  text  label    class\n",
      "0    দুই বছরের ব্যবধানে বগুড়া থেকে বিদেশে পণ্য রপ্ত...      0      joy\n",
      "1    আওয়ামী লীগ সরকার বাংলাদেশকে অন্ধকার কুয়া থেকে ...      0      joy\n",
      "2    চোখ কচলাতে কচলাতে বেশ রাগান্বীত কন্ঠ বলল ধুরো ...      3  disgust\n",
      "3    মেয়েটা অতিরিক্ত আত্মপরিচয় সংকটে ভুগে সাবিলা স্...      3  disgust\n",
      "4    এবার উন্নয়ন মুলক কাজের কিছু দৃশ্যমান পরিদশন ক...      0      joy\n",
      "..                                                 ...    ...      ...\n",
      "547  প্রায় পাঁচ মাস পর পেঁয়াজ রপ্তানিতে নিষেধাজ্ঞা ...      0      joy\n",
      "548  তাহসান ভাই জাস্ট লাভ বালাম ভাই বেস্ট আউটপুট দি...      0      joy\n",
      "549  সাদা পাঞ্জাবি পরা মাথায় লম্বা টুপি একা একা যেত...      4     fear\n",
      "550  দুটি চোখের কান্নার মর্ম যদি কেউ বুঝতো দুঃখের প...      1  sadness\n",
      "551  আমার ব্রেইনে অসুখে ডিম পারছে ৩ বার অপারেশনের প...      1  sadness\n",
      "\n",
      "[552 rows x 3 columns]\n"
     ]
    }
   ],
   "source": [
    "train_csv = pd.DataFrame(list(zip(train_new_text_list, train_new_label_list, train_new_class_list)),\n",
    "               columns =['text', 'label','class'])\n",
    "test_csv = pd.DataFrame(list(zip(test_new_text_list, test_new_label_list, test_new_class_list)),\n",
    "               columns =['text', 'label','class'])\n",
    "print(train_csv)\n",
    "print()\n",
    "print(test_csv)"
   ]
  },
  {
   "cell_type": "code",
   "execution_count": 37,
   "id": "cec73df2",
   "metadata": {},
   "outputs": [],
   "source": [
    "train_csv.to_csv('train.csv', index=False)\n",
    "test_csv.to_csv('test.csv', index=False)"
   ]
  }
 ],
 "metadata": {
  "kernelspec": {
   "display_name": "Python 3 (ipykernel)",
   "language": "python",
   "name": "python3"
  },
  "language_info": {
   "codemirror_mode": {
    "name": "ipython",
    "version": 3
   },
   "file_extension": ".py",
   "mimetype": "text/x-python",
   "name": "python",
   "nbconvert_exporter": "python",
   "pygments_lexer": "ipython3",
   "version": "3.9.13"
  }
 },
 "nbformat": 4,
 "nbformat_minor": 5
}
