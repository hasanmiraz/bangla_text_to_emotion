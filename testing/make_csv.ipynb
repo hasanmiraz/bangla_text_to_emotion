{
 "cells": [
  {
   "cell_type": "markdown",
   "id": "a9f9c5a0",
   "metadata": {},
   "source": [
    "# import #"
   ]
  },
  {
   "cell_type": "code",
   "execution_count": 1,
   "id": "719d0487",
   "metadata": {},
   "outputs": [],
   "source": [
    "import pandas as pd\n",
    "from sklearn.model_selection import train_test_split"
   ]
  },
  {
   "cell_type": "markdown",
   "id": "88d01938",
   "metadata": {},
   "source": [
    "# fnc #"
   ]
  },
  {
   "cell_type": "code",
   "execution_count": 2,
   "id": "f1877a9a",
   "metadata": {},
   "outputs": [],
   "source": [
    "#debug\n",
    "def train_test_debug():\n",
    "    if train_set[\"text\"][0] == training_data1[\"text\"][0]:\n",
    "        print(\"train set is ***1***\")\n",
    "    \n",
    "    if train_set[\"text\"][0] == training_data2[\"text\"][0]:\n",
    "        print(\"train set is ***2***\")\n",
    "        \n",
    "    if test_set[\"text\"][0] == testing_data1[\"text\"][0]:\n",
    "        print(\"test set is ***1***\")\n",
    "    \n",
    "    if test_set[\"text\"][0] == testing_data2[\"text\"][0]:\n",
    "        print(\"test set is ***2***\")"
   ]
  },
  {
   "cell_type": "code",
   "execution_count": 3,
   "id": "6fcdf49b",
   "metadata": {},
   "outputs": [],
   "source": [
    "def clean_text(text):\n",
    "    text = str(text)\n",
    "    if \",\" in text:\n",
    "        return str(text.replace(\",\",\"\"))\n",
    "    if \".\" in text:\n",
    "        return str(text.replace(\".\",\"\"))\n",
    "    if \"।\" in text:\n",
    "        return str(text.replace(\"।\",\"\"))\n",
    "    if \"|\" in text:\n",
    "        return str(text.replace(\"|\",\"\"))\n",
    "    return str(text)"
   ]
  },
  {
   "cell_type": "code",
   "execution_count": 4,
   "id": "ae497abb",
   "metadata": {},
   "outputs": [],
   "source": [
    "def get_emotion(emotion):\n",
    "    if emotion == \"happy\":\n",
    "        return 0\n",
    "    elif emotion == \"sad\":\n",
    "        return 1\n",
    "    elif emotion == \"angry\":\n",
    "        return 2\n",
    "    elif emotion == \"disgust\":\n",
    "        return 3\n",
    "    elif emotion == \"fear\":\n",
    "        return 4"
   ]
  },
  {
   "cell_type": "markdown",
   "id": "04afe232",
   "metadata": {},
   "source": [
    "# data #"
   ]
  },
  {
   "cell_type": "markdown",
   "id": "9ab50943",
   "metadata": {},
   "source": [
    "**dataset1**"
   ]
  },
  {
   "cell_type": "code",
   "execution_count": 5,
   "id": "b2fb20c6",
   "metadata": {},
   "outputs": [
    {
     "name": "stdout",
     "output_type": "stream",
     "text": [
      "reaction\n",
      "angry      [text, reaction]\n",
      "disgust    [text, reaction]\n",
      "fear       [text, reaction]\n",
      "happy      [text, reaction]\n",
      "sad        [text, reaction]\n",
      "dtype: object\n",
      "shape = (3096, 2)\n",
      "dtype = text        object\n",
      "reaction    object\n",
      "dtype: object\n",
      "value count = \n",
      "happy      1086\n",
      "sad         721\n",
      "angry       720\n",
      "disgust     357\n",
      "fear        212\n",
      "Name: reaction, dtype: int64\n",
      "\n",
      "\n",
      "reaction\n",
      "angry      [text, reaction]\n",
      "disgust    [text, reaction]\n",
      "fear       [text, reaction]\n",
      "happy      [text, reaction]\n",
      "sad        [text, reaction]\n",
      "dtype: object\n",
      "shape = (1032, 2)\n",
      "dtype = text        object\n",
      "reaction    object\n",
      "dtype: object\n",
      "value count = \n",
      "happy      351\n",
      "angry      269\n",
      "sad        224\n",
      "disgust    112\n",
      "fear        76\n",
      "Name: reaction, dtype: int64\n"
     ]
    }
   ],
   "source": [
    "training_data1 = pd.read_excel(\"all_data/training_DS1.xlsx\")\n",
    "print(training_data1.groupby(\"reaction\").apply(list))\n",
    "print(f\"shape = {training_data1.shape}\")\n",
    "print(f\"dtype = {training_data1.dtypes}\")\n",
    "print(f\"value count = \\n{training_data1['reaction'].value_counts()}\")\n",
    "\n",
    "training_list1 = training_data1.values.tolist()\n",
    "print(\"\\n\")\n",
    "testing_data1 = pd.read_excel(\"all_data/testing_DS1.xlsx\")\n",
    "print(testing_data1.groupby(\"reaction\").apply(list))\n",
    "print(f\"shape = {testing_data1.shape}\")\n",
    "print(f\"dtype = {testing_data1.dtypes}\")\n",
    "print(f\"value count = \\n{testing_data1['reaction'].value_counts()}\")\n",
    "\n",
    "testing_list1 = training_data1.values.tolist()"
   ]
  },
  {
   "cell_type": "code",
   "execution_count": 6,
   "id": "8d7b0297",
   "metadata": {},
   "outputs": [
    {
     "name": "stdout",
     "output_type": "stream",
     "text": [
      "\n",
      " split \n",
      "\n"
     ]
    }
   ],
   "source": [
    "training_data1[\"text\"] = training_data1[\"text\"].apply(clean_text)\n",
    "training_data1[\"label\"] = training_data1[\"reaction\"].apply(get_emotion)\n",
    "training_data1[\"num_of_words\"] = training_data1[\"text\"].apply(lambda x:len(str(x).split()))\n",
    "\n",
    "print(\"\\n split \\n\")\n",
    "\n",
    "testing_data1[\"text\"] = testing_data1[\"text\"].apply(clean_text)\n",
    "testing_data1[\"label\"] = testing_data1[\"reaction\"].apply(get_emotion)\n",
    "testing_data1[\"num_of_words\"] = testing_data1[\"text\"].apply(lambda x:len(str(x).split()))"
   ]
  },
  {
   "cell_type": "markdown",
   "id": "0ec4840f",
   "metadata": {},
   "source": [
    "**dataset2**"
   ]
  },
  {
   "cell_type": "code",
   "execution_count": 7,
   "id": "19372d34",
   "metadata": {},
   "outputs": [
    {
     "name": "stdout",
     "output_type": "stream",
     "text": [
      "reaction\n",
      "angry      [text, reaction]\n",
      "disgust    [text, reaction]\n",
      "fear       [text, reaction]\n",
      "happy      [text, reaction]\n",
      "sad        [text, reaction]\n",
      "dtype: object\n",
      "shape = (3720, 2)\n",
      "dtype = text        object\n",
      "reaction    object\n",
      "dtype: object\n",
      "value count = \n",
      "happy      883\n",
      "sad        810\n",
      "disgust    799\n",
      "angry      629\n",
      "fear       599\n",
      "Name: reaction, dtype: int64\n",
      "\n",
      "\n",
      "reaction\n",
      "angry      [text, reaction]\n",
      "disgust    [text, reaction]\n",
      "fear       [text, reaction]\n",
      "happy      [text, reaction]\n",
      "sad        [text, reaction]\n",
      "dtype: object\n",
      "shape = (1265, 2)\n",
      "dtype = text        object\n",
      "reaction    object\n",
      "dtype: object\n",
      "value count = \n",
      "happy      311\n",
      "disgust    289\n",
      "sad        275\n",
      "angry      208\n",
      "fear       182\n",
      "Name: reaction, dtype: int64\n"
     ]
    }
   ],
   "source": [
    "training_data2 = pd.read_excel(\"all_data/training_DS2.xlsx\")\n",
    "print(training_data2.groupby(\"reaction\").apply(list))\n",
    "print(f\"shape = {training_data2.shape}\")\n",
    "print(f\"dtype = {training_data2.dtypes}\")\n",
    "print(f\"value count = \\n{training_data2['reaction'].value_counts()}\")\n",
    "\n",
    "training_list2 = training_data2.values.tolist()\n",
    "print(\"\\n\")\n",
    "testing_data2 = pd.read_excel(\"all_data/testing_DS2.xlsx\")\n",
    "print(testing_data2.groupby(\"reaction\").apply(list))\n",
    "print(f\"shape = {testing_data2.shape}\")\n",
    "print(f\"dtype = {testing_data2.dtypes}\")\n",
    "print(f\"value count = \\n{testing_data2['reaction'].value_counts()}\")\n",
    "\n",
    "testing_list2 = training_data2.values.tolist()"
   ]
  },
  {
   "cell_type": "code",
   "execution_count": 8,
   "id": "49a106e7",
   "metadata": {},
   "outputs": [
    {
     "name": "stdout",
     "output_type": "stream",
     "text": [
      "reaction\n",
      "angry      [text, reaction, label, num_of_words]\n",
      "disgust    [text, reaction, label, num_of_words]\n",
      "fear       [text, reaction, label, num_of_words]\n",
      "happy      [text, reaction, label, num_of_words]\n",
      "sad        [text, reaction, label, num_of_words]\n",
      "dtype: object\n",
      "\n",
      " split \n",
      "\n",
      "reaction\n",
      "angry      [text, reaction, label, num_of_words]\n",
      "disgust    [text, reaction, label, num_of_words]\n",
      "fear       [text, reaction, label, num_of_words]\n",
      "happy      [text, reaction, label, num_of_words]\n",
      "sad        [text, reaction, label, num_of_words]\n",
      "dtype: object\n"
     ]
    }
   ],
   "source": [
    "training_data2[\"text\"] = training_data2[\"text\"].apply(clean_text)\n",
    "training_data2[\"label\"] = training_data2[\"reaction\"].apply(get_emotion)\n",
    "training_data2[\"num_of_words\"] = training_data2[\"text\"].apply(lambda x:len(str(x).split()))\n",
    "print(training_data2.groupby(\"reaction\").apply(list))\n",
    "\n",
    "print(\"\\n split \\n\")\n",
    "\n",
    "testing_data2[\"text\"] = testing_data2[\"text\"].apply(clean_text)\n",
    "testing_data2[\"label\"] = testing_data2[\"reaction\"].apply(get_emotion)\n",
    "testing_data2[\"num_of_words\"] = testing_data2[\"text\"].apply(lambda x:len(str(x).split()))\n",
    "print(training_data2.groupby(\"reaction\").apply(list))"
   ]
  },
  {
   "cell_type": "markdown",
   "id": "0cd8d1b4",
   "metadata": {},
   "source": [
    "**select dataset**"
   ]
  },
  {
   "cell_type": "code",
   "execution_count": 9,
   "id": "31daaf9d",
   "metadata": {},
   "outputs": [],
   "source": [
    "train_set = None\n",
    "test_set = None"
   ]
  },
  {
   "cell_type": "code",
   "execution_count": 10,
   "id": "379a619e",
   "metadata": {},
   "outputs": [],
   "source": [
    "def select_train_test(train,test):\n",
    "    global train_set\n",
    "    global test_set\n",
    "    if train == 1 and test == 1:\n",
    "        print(\"train = 1 test = 1 loaded\")\n",
    "        print(testing_data1.groupby(\"reaction\").apply(list))\n",
    "        train_set = training_data1.drop(columns=[\"reaction\",\"num_of_words\"])\n",
    "        test_set = testing_data1.drop(columns=[\"reaction\",\"num_of_words\"])\n",
    "    elif train == 2 and test == 2:\n",
    "        print(\"train = 2 test = 2 loaded\")\n",
    "        print(training_data2.groupby(\"reaction\").apply(list))\n",
    "        train_set = training_data2.drop(columns=[\"reaction\",\"num_of_words\"])\n",
    "        test_set = testing_data2.drop(columns=[\"reaction\",\"num_of_words\"])\n",
    "    elif train == 1 and test == 2:\n",
    "        print(\"train = 1 test = 2 loaded\")\n",
    "        train_set = training_data1.drop(columns=[\"reaction\",\"num_of_words\"])\n",
    "        test_set = testing_data2.drop(columns=[\"reaction\",\"num_of_words\"])\n",
    "    elif train == 2 and test == 1:\n",
    "        print(\"train = 2 test = 1 loaded\")\n",
    "        train_set = training_data2.drop(columns=[\"reaction\",\"num_of_words\"])\n",
    "        test_set = testing_data1.drop(columns=[\"reaction\",\"num_of_words\"])\n",
    "    else:\n",
    "        print(\"choose between train 1/2 and test 1/2\")\n",
    "        \n",
    "    print(f\"value count = \\n{train_set['label'].value_counts()}\")\n",
    "    print(f\"value count = \\n{test_set['label'].value_counts()}\")\n"
   ]
  },
  {
   "cell_type": "code",
   "execution_count": 11,
   "id": "0a4e6267",
   "metadata": {},
   "outputs": [
    {
     "name": "stdout",
     "output_type": "stream",
     "text": [
      "train = 1 test = 1 loaded\n",
      "reaction\n",
      "angry      [text, reaction, label, num_of_words]\n",
      "disgust    [text, reaction, label, num_of_words]\n",
      "fear       [text, reaction, label, num_of_words]\n",
      "happy      [text, reaction, label, num_of_words]\n",
      "sad        [text, reaction, label, num_of_words]\n",
      "dtype: object\n",
      "value count = \n",
      "0    1086\n",
      "1     721\n",
      "2     720\n",
      "3     357\n",
      "4     212\n",
      "Name: label, dtype: int64\n",
      "value count = \n",
      "0    351\n",
      "2    269\n",
      "1    224\n",
      "3    112\n",
      "4     76\n",
      "Name: label, dtype: int64\n",
      "train set is ***1***\n",
      "test set is ***1***\n"
     ]
    }
   ],
   "source": [
    "select_train_test(1,1)\n",
    "train_test_debug()\n",
    "train_set.to_csv('train_set_1.csv', index=False)\n",
    "test_set.to_csv('test_set_1.csv', index=False)"
   ]
  },
  {
   "cell_type": "code",
   "execution_count": 12,
   "id": "6664b13a",
   "metadata": {},
   "outputs": [
    {
     "name": "stdout",
     "output_type": "stream",
     "text": [
      "train = 2 test = 2 loaded\n",
      "reaction\n",
      "angry      [text, reaction, label, num_of_words]\n",
      "disgust    [text, reaction, label, num_of_words]\n",
      "fear       [text, reaction, label, num_of_words]\n",
      "happy      [text, reaction, label, num_of_words]\n",
      "sad        [text, reaction, label, num_of_words]\n",
      "dtype: object\n",
      "value count = \n",
      "0    883\n",
      "1    810\n",
      "3    799\n",
      "2    629\n",
      "4    599\n",
      "Name: label, dtype: int64\n",
      "value count = \n",
      "0    311\n",
      "3    289\n",
      "1    275\n",
      "2    208\n",
      "4    182\n",
      "Name: label, dtype: int64\n",
      "train set is ***2***\n",
      "test set is ***2***\n"
     ]
    }
   ],
   "source": [
    "select_train_test(2,2)\n",
    "train_test_debug()\n",
    "train_set.to_csv('train_set_2.csv', index=False)\n",
    "test_set.to_csv('test_set_2.csv', index=False)"
   ]
  }
 ],
 "metadata": {
  "kernelspec": {
   "display_name": "Python 3 (ipykernel)",
   "language": "python",
   "name": "python3"
  },
  "language_info": {
   "codemirror_mode": {
    "name": "ipython",
    "version": 3
   },
   "file_extension": ".py",
   "mimetype": "text/x-python",
   "name": "python",
   "nbconvert_exporter": "python",
   "pygments_lexer": "ipython3",
   "version": "3.9.13"
  }
 },
 "nbformat": 4,
 "nbformat_minor": 5
}
