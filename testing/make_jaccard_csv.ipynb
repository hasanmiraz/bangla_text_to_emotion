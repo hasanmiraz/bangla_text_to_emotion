{
 "cells": [
  {
   "cell_type": "code",
   "execution_count": 1,
   "id": "62e71137",
   "metadata": {},
   "outputs": [
    {
     "name": "stderr",
     "output_type": "stream",
     "text": [
      "C:\\Users\\meera\\anaconda3\\lib\\site-packages\\gensim\\similarities\\__init__.py:15: UserWarning: The gensim.similarities.levenshtein submodule is disabled, because the optional Levenshtein package <https://pypi.org/project/python-Levenshtein/> is unavailable. Install Levenhstein (e.g. `pip install python-Levenshtein`) to suppress this warning.\n",
      "  warnings.warn(msg)\n"
     ]
    }
   ],
   "source": [
    "import pandas as pd\n",
    "from bnlp.corpus import stopwords, punctuations, digits\n",
    "from bnlp import BasicTokenizer\n",
    "from transformers import BertModel, BertTokenizer, BertForSequenceClassification"
   ]
  },
  {
   "cell_type": "code",
   "execution_count": 2,
   "id": "7a22f265",
   "metadata": {},
   "outputs": [],
   "source": [
    "threshold = .7"
   ]
  },
  {
   "cell_type": "code",
   "execution_count": 3,
   "id": "1f5329de",
   "metadata": {},
   "outputs": [],
   "source": [
    "train_set = pd.read_csv(\"train.csv\")"
   ]
  },
  {
   "cell_type": "code",
   "execution_count": 4,
   "id": "6244bf3a",
   "metadata": {},
   "outputs": [
    {
     "name": "stdout",
     "output_type": "stream",
     "text": [
      "                                                   text  label    class\n",
      "0     মেডিকেলে এসে ঠিক ফ্যামিলির ফটো ফ্রেম এর মতো মন...      1  sadness\n",
      "1     অনেক দিন পর অন্য রকম অনুভূতি হচ্ছে  কেননা আমার...      1  sadness\n",
      "2     আগে যতোটা বেশি পছন্দ করতাম দুশ্চরিত্রা মিথিলা ...      3  disgust\n",
      "3     মাঝে মাঝে মনে হয় তোমাকে চাওয়াটা অনেক ভুল হয়ত ভ...      1  sadness\n",
      "4     এখানে কাওকে কবর দিয়ো না তাহলে তোমাদের পরিবারের...      4     fear\n",
      "...                                                 ...    ...      ...\n",
      "4399  আর  এত  টাকার  কাজই   বা  কিভাবে   করলো আজ  কা...      3  disgust\n",
      "4400  আমি মনে করি হাফপ্যান্ট পরে নাচগান হচ্ছে নোংরাম...      3  disgust\n",
      "4401  বিরক্ত করাও সম্ভবত এক ধরণের ভালোবাসা এই ইগোয়িস...      1  sadness\n",
      "4402  এই মূহুর্তে আমার আর সহ্য হচ্ছে না সমস্যাগুলো ম...      3  disgust\n",
      "4403  ২২ শ্রাবণের মতো থ্রিলার বানানো সৃজিত এমন অসংলগ...      3  disgust\n",
      "\n",
      "[4404 rows x 3 columns]\n",
      "4404\n"
     ]
    }
   ],
   "source": [
    "print(train_set)\n",
    "print(len(train_set))"
   ]
  },
  {
   "cell_type": "code",
   "execution_count": 5,
   "id": "3d5969dd",
   "metadata": {},
   "outputs": [],
   "source": [
    "def jaccard(list1, list2):\n",
    "    intersection = len(list(set(list1).intersection(list2)))\n",
    "    union = (len(list1) + len(list2)) - intersection\n",
    "    return float(intersection) / union"
   ]
  },
  {
   "cell_type": "code",
   "execution_count": 6,
   "id": "f4f9556e",
   "metadata": {},
   "outputs": [],
   "source": [
    "def filters(corpus):\n",
    "    res = []\n",
    "    for i in corpus:\n",
    "        temp_i = [*i]\n",
    "        flag = 0\n",
    "        for j in stopwords:\n",
    "#             print(f\"i={temp_i} j={[*j]} jac={jaccard(temp_i,[*j])}\")\n",
    "            if jaccard(temp_i,j)>threshold:\n",
    "                flag = 1\n",
    "                break\n",
    "        if(flag == 1):\n",
    "            continue\n",
    "            \n",
    "        if i in stopwords:\n",
    "            continue\n",
    "\n",
    "        if i in punctuations + '‘' + '’':\n",
    "            continue\n",
    "        if i in digits:\n",
    "            continue\n",
    "\n",
    "        res.append(i)\n",
    "\n",
    "    return res"
   ]
  },
  {
   "cell_type": "code",
   "execution_count": 7,
   "id": "8d01691f",
   "metadata": {},
   "outputs": [],
   "source": [
    "tokenizer = BasicTokenizer()\n",
    "tokenizer_bert = BertTokenizer.from_pretrained(\"sagorsarker/bangla-bert-base\")"
   ]
  },
  {
   "cell_type": "code",
   "execution_count": 8,
   "id": "3ffefe94",
   "metadata": {},
   "outputs": [
    {
     "name": "stdout",
     "output_type": "stream",
     "text": [
      "4404\n",
      "4404\n"
     ]
    }
   ],
   "source": [
    "train_set_text_list = train_set.text.tolist()\n",
    "train_set_label_list = train_set.label.tolist()\n",
    "print(len(train_set_text_list))\n",
    "print(len(train_set_label_list))"
   ]
  },
  {
   "cell_type": "code",
   "execution_count": 9,
   "id": "88323739",
   "metadata": {},
   "outputs": [],
   "source": [
    "new_train_set_text_list = []\n",
    "for i in train_set_text_list:\n",
    "    temp_list = tokenizer.tokenize(i)\n",
    "    new_train_set_text_list.append(filters(temp_list))\n",
    "# print(new_train_set_text_list)\n",
    "    "
   ]
  },
  {
   "cell_type": "code",
   "execution_count": 10,
   "id": "130d69f8",
   "metadata": {},
   "outputs": [
    {
     "name": "stdout",
     "output_type": "stream",
     "text": [
      "4404\n"
     ]
    }
   ],
   "source": [
    "print(len(new_train_set_text_list))"
   ]
  },
  {
   "cell_type": "code",
   "execution_count": 11,
   "id": "b0ad2bf0",
   "metadata": {},
   "outputs": [],
   "source": [
    "final_list = []\n",
    "for i in new_train_set_text_list:\n",
    "    final_list.append(\" \".join(i))\n",
    "# print(final_list)"
   ]
  },
  {
   "cell_type": "code",
   "execution_count": 12,
   "id": "438c858b",
   "metadata": {},
   "outputs": [
    {
     "name": "stdout",
     "output_type": "stream",
     "text": [
      "1800\n"
     ]
    }
   ],
   "source": [
    "for i in range(len(final_list)):\n",
    "    if type(final_list[i])!=str:\n",
    "        print(i)\n",
    "    if len(final_list[i])==0:\n",
    "        print(i)"
   ]
  },
  {
   "cell_type": "code",
   "execution_count": 13,
   "id": "502d248a",
   "metadata": {},
   "outputs": [],
   "source": [
    "for i in range(len(final_list)):\n",
    "    if type(final_list[i])!=str:\n",
    "        print(i)\n",
    "    if len(final_list[i])==0:\n",
    "        final_list[i]=train_set_text_list[i]"
   ]
  },
  {
   "cell_type": "code",
   "execution_count": 14,
   "id": "88fba80c",
   "metadata": {},
   "outputs": [],
   "source": [
    "for i in range(len(final_list)):\n",
    "    if type(final_list[i])!=str:\n",
    "        print(i)\n",
    "    if len(final_list[i])==0:\n",
    "        print(i)"
   ]
  },
  {
   "cell_type": "code",
   "execution_count": 15,
   "id": "5bd35777",
   "metadata": {},
   "outputs": [],
   "source": [
    "write_csv = pd.DataFrame(list(zip(final_list, train_set_label_list)),\n",
    "               columns =['text', 'label'])"
   ]
  },
  {
   "cell_type": "code",
   "execution_count": 16,
   "id": "e08ac2c3",
   "metadata": {},
   "outputs": [],
   "source": [
    "write_csv.to_csv(\"jaccard_train.csv\",index=False)"
   ]
  },
  {
   "cell_type": "code",
   "execution_count": null,
   "id": "550340d4",
   "metadata": {},
   "outputs": [],
   "source": []
  }
 ],
 "metadata": {
  "kernelspec": {
   "display_name": "Python 3 (ipykernel)",
   "language": "python",
   "name": "python3"
  },
  "language_info": {
   "codemirror_mode": {
    "name": "ipython",
    "version": 3
   },
   "file_extension": ".py",
   "mimetype": "text/x-python",
   "name": "python",
   "nbconvert_exporter": "python",
   "pygments_lexer": "ipython3",
   "version": "3.9.13"
  }
 },
 "nbformat": 4,
 "nbformat_minor": 5
}
