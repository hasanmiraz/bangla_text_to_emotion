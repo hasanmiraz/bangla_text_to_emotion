{
 "cells": [
  {
   "cell_type": "code",
   "execution_count": 100,
   "id": "62e71137",
   "metadata": {},
   "outputs": [],
   "source": [
    "import pandas as pd\n",
    "from bnlp.corpus import stopwords, punctuations, digits\n",
    "from bnlp import BasicTokenizer\n",
    "from transformers import BertModel, BertTokenizer, BertForSequenceClassification"
   ]
  },
  {
   "cell_type": "code",
   "execution_count": 101,
   "id": "7a22f265",
   "metadata": {},
   "outputs": [],
   "source": [
    "threshold = .7"
   ]
  },
  {
   "cell_type": "code",
   "execution_count": 102,
   "id": "1f5329de",
   "metadata": {},
   "outputs": [],
   "source": [
    "train_set = pd.read_csv(\"train_set_2.csv\")\n",
    "test_set = pd.read_csv(\"test_set_2.csv\")\n",
    "validation_set = pd.read_csv(\"test_set_1.csv\")"
   ]
  },
  {
   "cell_type": "code",
   "execution_count": 103,
   "id": "6244bf3a",
   "metadata": {},
   "outputs": [
    {
     "name": "stdout",
     "output_type": "stream",
     "text": [
      "                                                   text  label\n",
      "0     মামা ভয়ে ভয়ে লুকিং গ্লাসের কাপড় সরিয়ে দিয়...      4\n",
      "1     এই বয়সে নাতি নাতনিদের সঙ্গে আনন্দে মেতে থাকার ...      3\n",
      "2                         আপু আপনাকে খুব সুন্দর লাগছে        0\n",
      "3     তোমার শহরের কোণে কেউ মায়া জমায় কি  আমি এখনো ভা...      1\n",
      "4     এর মাথা পুরোটাই নষ্ট  পশ্চিম বঙ্গবাসী একে ভোট ...      2\n",
      "...                                                 ...    ...\n",
      "3715  আমি কষ্টের স্মৃতি নিয়ে করি বসবাস আমায় নিয়ে কখন...      1\n",
      "3716  আজ থেকে অফিসে এবং বাসায় প্রথম আলো পত্রিকা  বাদ...      2\n",
      "3717  এই নোয়াখাইল্লা বাইনচুদেরে বেধে লেংটা করে রোদে ...      2\n",
      "3718  হিরু আলম জায়েদ খান  ওরা ও  নায়েক আর নোবেল ও এক...      3\n",
      "3719  সত্যি সাকিব ভাই আজ আপনি আবার প্রমান করলেন কেন ...      0\n",
      "\n",
      "[3720 rows x 2 columns]\n",
      "3720\n"
     ]
    }
   ],
   "source": [
    "print(train_set)\n",
    "print(len(train_set))"
   ]
  },
  {
   "cell_type": "code",
   "execution_count": 104,
   "id": "3d5969dd",
   "metadata": {},
   "outputs": [],
   "source": [
    "def jaccard(list1, list2):\n",
    "    intersection = len(list(set(list1).intersection(list2)))\n",
    "    union = (len(list1) + len(list2)) - intersection\n",
    "    return float(intersection) / union"
   ]
  },
  {
   "cell_type": "code",
   "execution_count": 105,
   "id": "f4f9556e",
   "metadata": {},
   "outputs": [],
   "source": [
    "def filters(corpus):\n",
    "    res = []\n",
    "    for i in corpus:\n",
    "        temp_i = [*i]\n",
    "        flag = 0\n",
    "        for j in stopwords:\n",
    "#             print(f\"i={temp_i} j={[*j]} jac={jaccard(temp_i,[*j])}\")\n",
    "            if jaccard(temp_i,j)>threshold:\n",
    "                flag = 1\n",
    "                break\n",
    "        if(flag == 1):\n",
    "            continue\n",
    "            \n",
    "        if i in stopwords:\n",
    "            continue\n",
    "\n",
    "        if i in punctuations + '‘' + '’':\n",
    "            continue\n",
    "        if i in digits:\n",
    "            continue\n",
    "\n",
    "        res.append(i)\n",
    "\n",
    "    return res"
   ]
  },
  {
   "cell_type": "code",
   "execution_count": 106,
   "id": "8d01691f",
   "metadata": {},
   "outputs": [],
   "source": [
    "tokenizer = BasicTokenizer()\n",
    "tokenizer_bert = BertTokenizer.from_pretrained(\"sagorsarker/bangla-bert-base\")"
   ]
  },
  {
   "cell_type": "code",
   "execution_count": 107,
   "id": "3ffefe94",
   "metadata": {},
   "outputs": [
    {
     "name": "stdout",
     "output_type": "stream",
     "text": [
      "3720\n",
      "3720\n"
     ]
    }
   ],
   "source": [
    "train_set_text_list = train_set.text.tolist()\n",
    "train_set_label_list = train_set.label.tolist()\n",
    "print(len(train_set_text_list))\n",
    "print(len(train_set_label_list))"
   ]
  },
  {
   "cell_type": "code",
   "execution_count": 108,
   "id": "88323739",
   "metadata": {},
   "outputs": [],
   "source": [
    "new_train_set_text_list = []\n",
    "for i in train_set_text_list:\n",
    "    temp_list = tokenizer.tokenize(i)\n",
    "    new_train_set_text_list.append(filters(temp_list))\n",
    "# print(new_train_set_text_list)\n",
    "    "
   ]
  },
  {
   "cell_type": "code",
   "execution_count": 109,
   "id": "130d69f8",
   "metadata": {},
   "outputs": [
    {
     "name": "stdout",
     "output_type": "stream",
     "text": [
      "3720\n"
     ]
    }
   ],
   "source": [
    "print(len(new_train_set_text_list))"
   ]
  },
  {
   "cell_type": "code",
   "execution_count": 110,
   "id": "b0ad2bf0",
   "metadata": {},
   "outputs": [],
   "source": [
    "final_list = []\n",
    "for i in new_train_set_text_list:\n",
    "    final_list.append(\" \".join(i))\n",
    "# print(final_list)"
   ]
  },
  {
   "cell_type": "code",
   "execution_count": 111,
   "id": "438c858b",
   "metadata": {},
   "outputs": [
    {
     "name": "stdout",
     "output_type": "stream",
     "text": [
      "32\n",
      "1760\n",
      "2640\n"
     ]
    }
   ],
   "source": [
    "for i in range(len(final_list)):\n",
    "    if type(final_list[i])!=str:\n",
    "        print(i)\n",
    "    if len(final_list[i])==0:\n",
    "        print(i)"
   ]
  },
  {
   "cell_type": "code",
   "execution_count": 112,
   "id": "502d248a",
   "metadata": {},
   "outputs": [],
   "source": [
    "for i in range(len(final_list)):\n",
    "    if type(final_list[i])!=str:\n",
    "        print(i)\n",
    "    if len(final_list[i])==0:\n",
    "        final_list[i]=train_set_text_list[i]"
   ]
  },
  {
   "cell_type": "code",
   "execution_count": 113,
   "id": "88fba80c",
   "metadata": {},
   "outputs": [],
   "source": [
    "for i in range(len(final_list)):\n",
    "    if type(final_list[i])!=str:\n",
    "        print(i)\n",
    "    if len(final_list[i])==0:\n",
    "        print(i)"
   ]
  },
  {
   "cell_type": "code",
   "execution_count": 114,
   "id": "5bd35777",
   "metadata": {},
   "outputs": [],
   "source": [
    "write_csv = pd.DataFrame(list(zip(final_list, train_set_label_list)),\n",
    "               columns =['text', 'label'])"
   ]
  },
  {
   "cell_type": "code",
   "execution_count": 115,
   "id": "e08ac2c3",
   "metadata": {},
   "outputs": [],
   "source": [
    "write_csv.to_csv(\"stop_words_removed_train_set_2.csv\",index=False)"
   ]
  },
  {
   "cell_type": "code",
   "execution_count": null,
   "id": "550340d4",
   "metadata": {},
   "outputs": [],
   "source": []
  }
 ],
 "metadata": {
  "kernelspec": {
   "display_name": "Python 3 (ipykernel)",
   "language": "python",
   "name": "python3"
  },
  "language_info": {
   "codemirror_mode": {
    "name": "ipython",
    "version": 3
   },
   "file_extension": ".py",
   "mimetype": "text/x-python",
   "name": "python",
   "nbconvert_exporter": "python",
   "pygments_lexer": "ipython3",
   "version": "3.9.13"
  }
 },
 "nbformat": 4,
 "nbformat_minor": 5
}
